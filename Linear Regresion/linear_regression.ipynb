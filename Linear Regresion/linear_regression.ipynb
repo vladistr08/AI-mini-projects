{
 "cells": [
  {
   "cell_type": "markdown",
   "metadata": {
    "colab_type": "text",
    "id": "zbZSom2VvqBX"
   },
   "source": [
    "# Salary prediction using linear regression\n",
    "\n",
    "## Prerequisites: numpy, matplotlib, jupyter notebook\n",
    "\n",
    "- pip install numpy\n",
    "- pip install matplotlib\n",
    "- pip install jupyter\n",
    "\n",
    "## First, we import the needed libraries and load the dataset:"
   ]
  },
  {
   "cell_type": "code",
   "execution_count": 19,
   "metadata": {
    "colab": {},
    "colab_type": "code",
    "id": "ThJz3CEcvqBa"
   },
   "outputs": [
    {
     "name": "stdout",
     "output_type": "stream",
     "text": [
      "[[ 1.1]\n",
      " [ 1.3]\n",
      " [ 1.5]\n",
      " [ 2. ]\n",
      " [ 2.2]\n",
      " [ 2.9]\n",
      " [ 3. ]\n",
      " [ 3.2]\n",
      " [ 3.2]\n",
      " [ 3.7]\n",
      " [ 3.9]\n",
      " [ 4. ]\n",
      " [ 4. ]\n",
      " [ 4.1]\n",
      " [ 4.5]\n",
      " [ 4.9]\n",
      " [ 5.1]\n",
      " [ 5.3]\n",
      " [ 5.9]\n",
      " [ 6. ]\n",
      " [ 6.8]\n",
      " [ 7.1]\n",
      " [ 7.9]\n",
      " [ 8.2]\n",
      " [ 8.7]\n",
      " [ 9. ]\n",
      " [ 9.5]\n",
      " [ 9.6]\n",
      " [10.3]\n",
      " [10.5]] [ 39343.  46205.  37731.  43525.  39891.  56642.  60150.  54445.  64445.\n",
      "  57189.  63218.  55794.  56957.  57081.  61111.  67938.  66029.  83088.\n",
      "  81363.  93940.  91738.  98273. 101302. 113812. 109431. 105582. 116969.\n",
      " 112635. 122391. 121872.]\n"
     ]
    }
   ],
   "source": [
    "import numpy as np\n",
    "from numpy import genfromtxt\n",
    "import matplotlib.pyplot as plt\n",
    "from typing import Union\n",
    "\n",
    "#Get dataset from csv\n",
    "dataset: np.ndarray = genfromtxt('/home/istra/IA/DL/curs2/salary.csv', delimiter=',', skip_header=1)\n",
    "\n",
    "#Get inputs from dataset\n",
    "X: np.ndarray = dataset[:, 0]\n",
    "X = X.reshape(X.shape[0], 1)\n",
    "\n",
    "#get values from dataset\n",
    "Y: np.ndarray = dataset[:, 1]\n",
    "\n",
    "print(X, Y)"
   ]
  },
  {
   "cell_type": "markdown",
   "metadata": {
    "colab_type": "text",
    "id": "NzcWJWCzvqBe"
   },
   "source": [
    "## Let's plot the dataset and see how it looks:"
   ]
  },
  {
   "cell_type": "code",
   "execution_count": 20,
   "metadata": {
    "colab": {},
    "colab_type": "code",
    "id": "l0ePxv0ivqBf",
    "outputId": "01eeeba1-b98e-46b6-e247-318df110988b"
   },
   "outputs": [
    {
     "data": {
      "image/png": "[encoded data removed]",
      "text/plain": [
       "<Figure size 640x480 with 1 Axes>"
      ]
     },
     "metadata": {},
     "output_type": "display_data"
    }
   ],
   "source": [
    "# use matplotlib\n",
    "plt.scatter(X, Y)\n",
    "plt.title('Salary Dataset')\n",
    "plt.xlabel('Years of Experience')\n",
    "plt.ylabel('Salary')\n",
    "plt.grid()\n",
    "plt.show()"
   ]
  },
  {
   "cell_type": "markdown",
   "metadata": {
    "colab_type": "text",
    "id": "tANauuFBvqBj"
   },
   "source": [
    "## Linear regression implies fitting a line that best approximates the points: $h(X) = Xw^T$"
   ]
  },
  {
   "cell_type": "code",
   "execution_count": 21,
   "metadata": {
    "colab": {},
    "colab_type": "code",
    "id": "zwelzEY_vqBk"
   },
   "outputs": [],
   "source": [
    "# define function h\n",
    "def h(x_set: np.ndarray, weight_set: np.ndarray) -> Union[float, np.ndarray]:\n",
    "    return x_set @ weight_set"
   ]
  },
  {
   "cell_type": "markdown",
   "metadata": {
    "colab_type": "text",
    "id": "PNH0yvEqvqBm"
   },
   "source": [
    "## The true unknowns here are the parameters $w$. The easiest solution to the linear regression problem is given by the normal equation: $w^T = (X^T X)^{-1} X^T Y$"
   ]
  },
  {
   "cell_type": "code",
   "execution_count": 22,
   "metadata": {
    "colab": {},
    "colab_type": "code",
    "id": "sTsLJ6ZEvqBn"
   },
   "outputs": [],
   "source": [
    "# define the normal_equation function\n",
    "def get_weights_transposed(x_set: np.ndarray, y_set: np.ndarray) -> np.ndarray:\n",
    "    return np.linalg.pinv(x_set) @ y_set"
   ]
  },
  {
   "cell_type": "markdown",
   "metadata": {
    "colab_type": "text",
    "id": "7uMjYiy5vqBq"
   },
   "source": [
    "## The cost function is given by the RMS error: $J(w)=\\frac{1}{2n}\\sum_{i=1}^n (h(x^{(i)}) - y^{(i)})^2$"
   ]
  },
  {
   "cell_type": "code",
   "execution_count": 23,
   "metadata": {
    "colab": {},
    "colab_type": "code",
    "id": "Y2M3OnF4vqBr"
   },
   "outputs": [],
   "source": [
    "# define the cost function\n",
    "def cost(x_set: np.ndarray, y_set: np.ndarray, weights: np.ndarray) -> Union[float, np.ndarray]:\n",
    "    n = x_set.shape[0]\n",
    "    y_hat = h(x_set, weights)\n",
    "    return 1 / (2 * n) * np.sum(np.power(y_hat - y_set, 2))"
   ]
  },
  {
   "cell_type": "markdown",
   "metadata": {
    "colab_type": "text",
    "id": "Kw3Ku2pivqBu"
   },
   "source": [
    "## The bias $b$ needs to be also included. One trick that can be done is to append a column of ones to the dataset X:"
   ]
  },
  {
   "cell_type": "code",
   "execution_count": 24,
   "metadata": {
    "colab": {},
    "colab_type": "code",
    "id": "Q-sYQDyjvqBv"
   },
   "outputs": [
    {
     "name": "stdout",
     "output_type": "stream",
     "text": [
      "[[ 1.   1.1]\n",
      " [ 1.   1.3]\n",
      " [ 1.   1.5]\n",
      " [ 1.   2. ]\n",
      " [ 1.   2.2]\n",
      " [ 1.   2.9]\n",
      " [ 1.   3. ]\n",
      " [ 1.   3.2]\n",
      " [ 1.   3.2]\n",
      " [ 1.   3.7]\n",
      " [ 1.   3.9]\n",
      " [ 1.   4. ]\n",
      " [ 1.   4. ]\n",
      " [ 1.   4.1]\n",
      " [ 1.   4.5]\n",
      " [ 1.   4.9]\n",
      " [ 1.   5.1]\n",
      " [ 1.   5.3]\n",
      " [ 1.   5.9]\n",
      " [ 1.   6. ]\n",
      " [ 1.   6.8]\n",
      " [ 1.   7.1]\n",
      " [ 1.   7.9]\n",
      " [ 1.   8.2]\n",
      " [ 1.   8.7]\n",
      " [ 1.   9. ]\n",
      " [ 1.   9.5]\n",
      " [ 1.   9.6]\n",
      " [ 1.  10.3]\n",
      " [ 1.  10.5]]\n"
     ]
    }
   ],
   "source": [
    "def add_ones_column(x_set: np.ndarray) -> np.ndarray:\n",
    "    return np.concatenate((np.ones([x_set.shape[0], 1]), x_set), axis=1)\n",
    "\n",
    "x_norm_bias = add_ones_column(X) # append the bias column to the data\n",
    "print(x_norm_bias)"
   ]
  },
  {
   "cell_type": "markdown",
   "metadata": {
    "colab_type": "text",
    "id": "AsG5cycYvqBy"
   },
   "source": [
    "## Everything is in place now. Let's find the solution to the linear regression problem and print the cost function:"
   ]
  },
  {
   "cell_type": "code",
   "execution_count": 25,
   "metadata": {
    "colab": {},
    "colab_type": "code",
    "id": "VPurrgFMvqBz",
    "outputId": "4e668dd3-d9a0-459a-9445-4a11e46324a1"
   },
   "outputs": [
    {
     "name": "stdout",
     "output_type": "stream",
     "text": [
      "Weights: [25792.20019867  9449.96232146]\n",
      "Cost: 15635475.861140486\n"
     ]
    }
   ],
   "source": [
    "# Use the functions defined above to find the weights and compute cost\n",
    "weights = get_weights_transposed(x_norm_bias, Y)\n",
    "cost_current = cost(x_norm_bias, Y, weights)\n",
    "# print the parameters and the resulted cost\n",
    "print(\"Weights:\", weights)\n",
    "print(\"Cost:\", cost_current)"
   ]
  },
  {
   "cell_type": "markdown",
   "metadata": {
    "colab_type": "text",
    "id": "zU_O9HcfvqB1"
   },
   "source": [
    "## Let's visualize the fitted line:"
   ]
  },
  {
   "cell_type": "code",
   "execution_count": 26,
   "metadata": {
    "colab": {},
    "colab_type": "code",
    "id": "4eI__eNqvqB2",
    "outputId": "b92c6a75-c73f-445e-b2d2-4bc0c9f0aeb0"
   },
   "outputs": [
    {
     "data": {
      "image/png": "[encoded data removed]",
      "text/plain": [
       "<Figure size 640x480 with 1 Axes>"
      ]
     },
     "metadata": {},
     "output_type": "display_data"
    },
    {
     "name": "stdout",
     "output_type": "stream",
     "text": [
      "Cost: 15635475.861140486\n"
     ]
    }
   ],
   "source": [
    "# use matplotlib to visualize the data and the fitted line\n",
    "plt.scatter(X, Y, color='blue', label='Data')\n",
    "plt.plot(X, h(x_norm_bias, weights), color='red', label='Fitted line')\n",
    "plt.xlabel('Years of Experience')\n",
    "plt.ylabel('Salary')\n",
    "plt.grid()\n",
    "plt.show()\n",
    "print(\"Cost:\", cost_current)"
   ]
  },
  {
   "cell_type": "markdown",
   "metadata": {
    "colab_type": "text",
    "id": "1hpkGLUxvqB5"
   },
   "source": [
    "## Let's predict your salary:"
   ]
  },
  {
   "cell_type": "code",
   "execution_count": 27,
   "metadata": {
    "colab": {},
    "colab_type": "code",
    "id": "Z7gziEnovqB6",
    "outputId": "b6909414-1667-42ba-ee4e-ea17a8afddf5"
   },
   "outputs": [
    {
     "name": "stdout",
     "output_type": "stream",
     "text": [
      "94776.92514529076\n"
     ]
    }
   ],
   "source": [
    "# use the results to make predictions on a new input\n",
    "def predict(x_set: float) -> float:\n",
    "    years_of_exp = np.ndarray([]).reshape(1, 1)\n",
    "    years_of_exp[0, 0] = x_set\n",
    "    years_of_exp = add_ones_column(years_of_exp)\n",
    "    return h(years_of_exp, weights)[0]\n",
    "\n",
    "print(predict(7.3))"
   ]
  }
 ],
 "metadata": {
  "colab": {
   "name": "linear_regression.ipynb",
   "provenance": []
  },
  "kernelspec": {
   "display_name": "Python 3 (ipykernel)",
   "language": "python",
   "name": "python3"
  },
  "language_info": {
   "codemirror_mode": {
    "name": "ipython",
    "version": 3
   },
   "file_extension": ".py",
   "mimetype": "text/x-python",
   "name": "python",
   "nbconvert_exporter": "python",
   "pygments_lexer": "ipython3",
   "version": "3.8.10"
  }
 },
 "nbformat": 4,
 "nbformat_minor": 1
}
