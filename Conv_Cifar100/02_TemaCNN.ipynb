{
 "cells": [
  {
   "cell_type": "markdown",
   "id": "e17680b9",
   "metadata": {},
   "source": [
    "# Tema 6"
   ]
  },
  {
   "cell_type": "markdown",
   "id": "7e9bcbd9",
   "metadata": {},
   "source": [
    "Sa se creeze si antreneze o retea de tip convolutional pentru setul de date [CIFAR100](https://www.cs.toronto.edu/~kriz/cifar.html). Intrarea este RGB, de forma 32 x 32 x 3. \n",
    "\n",
    "Cerinte:\n",
    "1. Efectuati minim 50 de epoci de instruire. \n",
    "1. Reprezentati grafic evolutia functiei de cost si a acuratetei, masurate pe setul de antrenare si de validare, la finalul fiecarei epoci.\n",
    "1. Acuratetea unui model neantrenat este de in medie 1% (se decide aleator o clasa pentru fiecare input). Modelul vostru va trebui sa ajunga mult peste acest prag de baza. \n",
    "1. Odata gasit arhitectura care performeaza peste 1%, incercati 3 valori diferite pentru hiperparametrul learning rate. Modelul va fi antrenat pe 45000 de imagini alese aleator din setul de antrenare si validat pe restul de 5000 imagini din setul de antrenare. Acel LR care produce cea mai buna acuratete pe setul de validare va fi folosit pentru antrenarea peste cele 45000 imagini de antrenare + 5000 imagini de testare si in final testat pe setul de testare de 10000 de imagini. Setul de testare nu se va folosi in etapa de antrenare sau de validare (cautare de LR optimal). \n",
    "\n",
    "\n",
    "Nota: pentru desenarea in timp real a graficelor puteti folosi tensorboard [https://pytorch.org/tutorials/intermediate/tensorboard_tutorial.html](https://pytorch.org/tutorials/intermediate/tensorboard_tutorial.html), [https://towardsdatascience.com/a-complete-guide-to-using-tensorboard-with-pytorch-53cb2301e8c3](https://towardsdatascience.com/a-complete-guide-to-using-tensorboard-with-pytorch-53cb2301e8c3). Reprezentarea in timp real e utila, pentru a putea opri experimentele care nu arata o scadere a loss-ului dupa primele 5 epoci."
   ]
  },
  {
   "cell_type": "markdown",
   "id": "70b3b189",
   "metadata": {},
   "source": [
    "Tema va fi predata pana in 24 mai ora 23 pe elearning. Notarea ei se va face doar in prezenta studentului.\n",
    "\n",
    "Urmariti documentul pentru completari ulterioare."
   ]
  },
  {
   "cell_type": "markdown",
   "id": "1124ee4f",
   "metadata": {},
   "source": [
    "## Import de pachete"
   ]
  },
  {
   "cell_type": "code",
   "execution_count": 96,
   "id": "dfe24227",
   "metadata": {
    "ExecuteTime": {
     "end_time": "2023-05-04T06:07:29.784875Z",
     "start_time": "2023-05-04T06:07:27.124878Z"
    }
   },
   "outputs": [
    {
     "name": "stdout",
     "output_type": "stream",
     "text": [
      "Using PyTorch version: 1.12.1  Device: cpu\n"
     ]
    }
   ],
   "source": [
    "import torch\n",
    "import torch.nn as nn\n",
    "import torch.nn.functional as F\n",
    "from torchvision import datasets, transforms\n",
    "\n",
    "import numpy as np\n",
    "import matplotlib.pyplot as plt\n",
    "from typing import Tuple, List\n",
    "\n",
    "if torch.cuda.is_available():\n",
    "    device = torch.device('cuda')\n",
    "else:\n",
    "    device = torch.device('cpu')\n",
    "    \n",
    "print('Using PyTorch version:', torch.__version__, ' Device:', device)"
   ]
  },
  {
   "cell_type": "code",
   "execution_count": 97,
   "id": "7c49a265",
   "metadata": {
    "ExecuteTime": {
     "end_time": "2023-05-04T06:07:39.033646Z",
     "start_time": "2023-05-04T06:07:29.850905Z"
    }
   },
   "outputs": [
    {
     "name": "stdout",
     "output_type": "stream",
     "text": [
      "Requirement already satisfied: torch-summary in /home/istra/anaconda3/envs/IA/lib/python3.9/site-packages (1.4.5)\r\n",
      "Requirement already satisfied: tensorboard in /home/istra/anaconda3/envs/IA/lib/python3.9/site-packages (2.13.0)\r\n",
      "Requirement already satisfied: google-auth-oauthlib<1.1,>=0.5 in /home/istra/anaconda3/envs/IA/lib/python3.9/site-packages (from tensorboard) (1.0.0)\r\n",
      "Requirement already satisfied: markdown>=2.6.8 in /home/istra/anaconda3/envs/IA/lib/python3.9/site-packages (from tensorboard) (3.4.1)\r\n",
      "Requirement already satisfied: tensorboard-data-server<0.8.0,>=0.7.0 in /home/istra/anaconda3/envs/IA/lib/python3.9/site-packages (from tensorboard) (0.7.0)\r\n",
      "Requirement already satisfied: wheel>=0.26 in /home/istra/anaconda3/envs/IA/lib/python3.9/site-packages (from tensorboard) (0.38.4)\r\n",
      "Requirement already satisfied: google-auth<3,>=1.6.3 in /home/istra/anaconda3/envs/IA/lib/python3.9/site-packages (from tensorboard) (2.17.3)\r\n",
      "Requirement already satisfied: setuptools>=41.0.0 in /home/istra/anaconda3/envs/IA/lib/python3.9/site-packages (from tensorboard) (65.6.3)\r\n",
      "Requirement already satisfied: requests<3,>=2.21.0 in /home/istra/anaconda3/envs/IA/lib/python3.9/site-packages (from tensorboard) (2.28.1)\r\n",
      "Requirement already satisfied: protobuf>=3.19.6 in /home/istra/anaconda3/envs/IA/lib/python3.9/site-packages (from tensorboard) (4.23.0)\r\n",
      "Requirement already satisfied: numpy>=1.12.0 in /home/istra/anaconda3/envs/IA/lib/python3.9/site-packages (from tensorboard) (1.23.5)\r\n",
      "Requirement already satisfied: werkzeug>=1.0.1 in /home/istra/anaconda3/envs/IA/lib/python3.9/site-packages (from tensorboard) (2.2.2)\r\n",
      "Requirement already satisfied: grpcio>=1.48.2 in /home/istra/anaconda3/envs/IA/lib/python3.9/site-packages (from tensorboard) (1.54.0)\r\n",
      "Requirement already satisfied: absl-py>=0.4 in /home/istra/anaconda3/envs/IA/lib/python3.9/site-packages (from tensorboard) (1.4.0)\r\n",
      "Requirement already satisfied: cachetools<6.0,>=2.0.0 in /home/istra/anaconda3/envs/IA/lib/python3.9/site-packages (from google-auth<3,>=1.6.3->tensorboard) (5.3.0)\r\n",
      "Requirement already satisfied: rsa<5,>=3.1.4 in /home/istra/anaconda3/envs/IA/lib/python3.9/site-packages (from google-auth<3,>=1.6.3->tensorboard) (4.9)\r\n",
      "Requirement already satisfied: six>=1.9.0 in /home/istra/anaconda3/envs/IA/lib/python3.9/site-packages (from google-auth<3,>=1.6.3->tensorboard) (1.16.0)\r\n",
      "Requirement already satisfied: pyasn1-modules>=0.2.1 in /home/istra/anaconda3/envs/IA/lib/python3.9/site-packages (from google-auth<3,>=1.6.3->tensorboard) (0.2.8)\r\n",
      "Requirement already satisfied: requests-oauthlib>=0.7.0 in /home/istra/anaconda3/envs/IA/lib/python3.9/site-packages (from google-auth-oauthlib<1.1,>=0.5->tensorboard) (1.3.1)\r\n",
      "Requirement already satisfied: importlib-metadata>=4.4 in /home/istra/anaconda3/envs/IA/lib/python3.9/site-packages (from markdown>=2.6.8->tensorboard) (4.11.3)\r\n",
      "Requirement already satisfied: urllib3<1.27,>=1.21.1 in /home/istra/anaconda3/envs/IA/lib/python3.9/site-packages (from requests<3,>=2.21.0->tensorboard) (1.26.14)\r\n",
      "Requirement already satisfied: certifi>=2017.4.17 in /home/istra/anaconda3/envs/IA/lib/python3.9/site-packages (from requests<3,>=2.21.0->tensorboard) (2022.9.24)\r\n",
      "Requirement already satisfied: idna<4,>=2.5 in /home/istra/anaconda3/envs/IA/lib/python3.9/site-packages (from requests<3,>=2.21.0->tensorboard) (3.4)\r\n",
      "Requirement already satisfied: charset-normalizer<3,>=2 in /home/istra/anaconda3/envs/IA/lib/python3.9/site-packages (from requests<3,>=2.21.0->tensorboard) (2.0.4)\r\n",
      "Requirement already satisfied: MarkupSafe>=2.1.1 in /home/istra/anaconda3/envs/IA/lib/python3.9/site-packages (from werkzeug>=1.0.1->tensorboard) (2.1.1)\r\n",
      "Requirement already satisfied: zipp>=0.5 in /home/istra/anaconda3/envs/IA/lib/python3.9/site-packages (from importlib-metadata>=4.4->markdown>=2.6.8->tensorboard) (3.11.0)\r\n",
      "Requirement already satisfied: pyasn1<0.5.0,>=0.4.6 in /home/istra/anaconda3/envs/IA/lib/python3.9/site-packages (from pyasn1-modules>=0.2.1->google-auth<3,>=1.6.3->tensorboard) (0.4.8)\r\n",
      "Requirement already satisfied: oauthlib>=3.0.0 in /home/istra/anaconda3/envs/IA/lib/python3.9/site-packages (from requests-oauthlib>=0.7.0->google-auth-oauthlib<1.1,>=0.5->tensorboard) (3.2.2)\r\n"
     ]
    }
   ],
   "source": [
    "!pip install torch-summary\n",
    "from torchsummary import summary\n",
    "\n",
    "!pip install tensorboard\n",
    "from torch.utils.tensorboard import SummaryWriter"
   ]
  },
  {
   "cell_type": "markdown",
   "id": "ee1e13e8",
   "metadata": {},
   "source": [
    "## Pregatire dataset, dataloader"
   ]
  },
  {
   "cell_type": "code",
   "execution_count": 98,
   "id": "e7147f40",
   "metadata": {
    "ExecuteTime": {
     "end_time": "2023-05-04T06:07:59.306626Z",
     "start_time": "2023-05-04T06:07:39.100037Z"
    }
   },
   "outputs": [
    {
     "name": "stdout",
     "output_type": "stream",
     "text": [
      "Files already downloaded and verified\n"
     ]
    }
   ],
   "source": [
    "# se poate ajusta dimensiunea batchului\n",
    "batch_size = 16\n",
    "\n",
    "train_augmentations = transforms.Compose([transforms.RandomGrayscale(0.2),\n",
    "                                          transforms.RandomHorizontalFlip(0.5),\n",
    "                                          transforms.RandomVerticalFlip(0.2),\n",
    "                                          transforms.RandomRotation(30),\n",
    "                                          transforms.RandomAdjustSharpness(0.4),\n",
    "                                          transforms.ToTensor(),\n",
    "                                          transforms.Normalize((0.4914, 0.4822, 0.4465), (0.2023, 0.1994, 0.2010))\n",
    "                                         ])\n",
    "\n",
    "test_augmentations = transforms.Compose([transforms.ToTensor(),\n",
    "                                         transforms.Normalize((0.4914, 0.4822, 0.4465), (0.2023, 0.1994, 0.2010))]\n",
    "                                       )\n",
    "\n",
    "train_dataset = datasets.CIFAR100('./data', \n",
    "                               train=True, \n",
    "                               download=True, \n",
    "                               transform=train_augmentations)\n",
    "\n",
    "assert len(train_dataset) == 50000\n",
    "\n",
    "test_dataset = datasets.CIFAR100('./data', \n",
    "                                    train=False, \n",
    "                                    transform=test_augmentations)\n",
    "\n",
    "assert len(test_dataset) == 10000\n",
    "\n"
   ]
  },
  {
   "cell_type": "code",
   "execution_count": 99,
   "id": "b56fac18",
   "metadata": {
    "ExecuteTime": {
     "end_time": "2023-05-04T06:07:59.385608Z",
     "start_time": "2023-05-04T06:07:59.372610Z"
    }
   },
   "outputs": [],
   "source": [
    "train_loader = torch.utils.data.DataLoader(dataset=train_dataset, \n",
    "                                           batch_size=batch_size, \n",
    "                                           shuffle=True,\n",
    "                                           num_workers=2\n",
    "                                           )\n",
    "\n",
    "test_loader = torch.utils.data.DataLoader(dataset=test_dataset, \n",
    "                                                batch_size=batch_size, \n",
    "                                                shuffle=False,\n",
    "                                                num_workers=2\n",
    "                                          )"
   ]
  },
  {
   "cell_type": "markdown",
   "id": "605f939a",
   "metadata": {},
   "source": [
    "Nota: daca celula de plot produce eroare, atunci se foloseste workaround de la [https://stackoverflow.com/questions/53014306/error-15-initializing-libiomp5-dylib-but-found-libiomp5-dylib-already-initial](https://stackoverflow.com/questions/53014306/error-15-initializing-libiomp5-dylib-but-found-libiomp5-dylib-already-initial):\""
   ]
  },
  {
   "cell_type": "code",
   "execution_count": 100,
   "id": "d4ee24eb",
   "metadata": {
    "ExecuteTime": {
     "end_time": "2023-05-04T06:07:59.463611Z",
     "start_time": "2023-05-04T06:07:59.451612Z"
    }
   },
   "outputs": [],
   "source": [
    "import os\n",
    "os.environ[\"KMP_DUPLICATE_LIB_OK\"]=\"TRUE\""
   ]
  },
  {
   "cell_type": "code",
   "execution_count": 101,
   "id": "d628bd1c",
   "metadata": {
    "ExecuteTime": {
     "end_time": "2023-05-04T06:07:59.559608Z",
     "start_time": "2023-05-04T06:07:59.530612Z"
    }
   },
   "outputs": [
    {
     "name": "stdout",
     "output_type": "stream",
     "text": [
      "X_train: torch.Size([16, 3, 32, 32]) type: torch.FloatTensor\n",
      "y_train: torch.Size([16]) type: torch.LongTensor\n"
     ]
    }
   ],
   "source": [
    "for (X_train, y_train) in train_loader:\n",
    "    print('X_train:', X_train.size(), 'type:', X_train.type())\n",
    "    print('y_train:', y_train.size(), 'type:', y_train.type())\n",
    "    break"
   ]
  },
  {
   "cell_type": "code",
   "execution_count": 102,
   "id": "086ba871",
   "metadata": {
    "ExecuteTime": {
     "end_time": "2023-05-04T06:08:07.858153Z",
     "start_time": "2023-05-04T06:08:07.092050Z"
    }
   },
   "outputs": [
    {
     "name": "stderr",
     "output_type": "stream",
     "text": [
      "Clipping input data to the valid range for imshow with RGB data ([0..1] for floats or [0..255] for integers).\n",
      "Clipping input data to the valid range for imshow with RGB data ([0..1] for floats or [0..255] for integers).\n",
      "Clipping input data to the valid range for imshow with RGB data ([0..1] for floats or [0..255] for integers).\n",
      "Clipping input data to the valid range for imshow with RGB data ([0..1] for floats or [0..255] for integers).\n",
      "Clipping input data to the valid range for imshow with RGB data ([0..1] for floats or [0..255] for integers).\n",
      "Clipping input data to the valid range for imshow with RGB data ([0..1] for floats or [0..255] for integers).\n",
      "Clipping input data to the valid range for imshow with RGB data ([0..1] for floats or [0..255] for integers).\n",
      "Clipping input data to the valid range for imshow with RGB data ([0..1] for floats or [0..255] for integers).\n",
      "Clipping input data to the valid range for imshow with RGB data ([0..1] for floats or [0..255] for integers).\n",
      "Clipping input data to the valid range for imshow with RGB data ([0..1] for floats or [0..255] for integers).\n",
      "Clipping input data to the valid range for imshow with RGB data ([0..1] for floats or [0..255] for integers).\n",
      "Clipping input data to the valid range for imshow with RGB data ([0..1] for floats or [0..255] for integers).\n",
      "Clipping input data to the valid range for imshow with RGB data ([0..1] for floats or [0..255] for integers).\n",
      "Clipping input data to the valid range for imshow with RGB data ([0..1] for floats or [0..255] for integers).\n",
      "Clipping input data to the valid range for imshow with RGB data ([0..1] for floats or [0..255] for integers).\n",
      "Clipping input data to the valid range for imshow with RGB data ([0..1] for floats or [0..255] for integers).\n"
     ]
    },
    {
     "data": {
      "text/plain": "<Figure size 800x600 with 16 Axes>",
      "image/png": "[encoded data removed]"
     },
     "metadata": {},
     "output_type": "display_data"
    }
   ],
   "source": [
    "pltsize=1\n",
    "plt.figure(figsize=(8, 6))\n",
    "\n",
    "for i in range(16):\n",
    "    plt.subplot(4,4,i+1)\n",
    "    plt.axis('off')\n",
    "    plt.imshow(X_train[i,:,:,:].numpy().reshape(3,32,32).transpose(1,2,0))\n",
    "    plt.title('Class: '+str(y_train[i].item()))"
   ]
  },
  {
   "cell_type": "markdown",
   "id": "4f3f8e07",
   "metadata": {},
   "source": [
    "## Functii: antrenare, validare, desenare"
   ]
  },
  {
   "cell_type": "markdown",
   "source": [
    "Define test function"
   ],
   "metadata": {
    "collapsed": false
   }
  },
  {
   "cell_type": "code",
   "execution_count": 103,
   "outputs": [],
   "source": [
    "@torch.no_grad()\n",
    "def test(\n",
    "        model: nn.Module,\n",
    "        criterion: nn.CrossEntropyLoss,\n",
    "        loader: torch.utils.data.DataLoader,\n",
    "        device: torch.device\n",
    ") -> Tuple[float, float]:\n",
    "    model.eval()\n",
    "    accuracy, test_loss = 0, 0\n",
    "    for x, y in loader:\n",
    "        x, y = x.to(device), y.to(device)\n",
    "        y_hat = model(x)\n",
    "        test_loss += criterion(y_hat, y).item() * x.shape[0]\n",
    "        _, predicted = torch.max(y_hat, axis=1)\n",
    "        accuracy += (predicted == y).sum().item()\n",
    "    accuracy /= len(loader.dataset)\n",
    "    test_loss /= len(loader.dataset)\n",
    "    return accuracy, test_loss"
   ],
   "metadata": {
    "collapsed": false
   }
  },
  {
   "cell_type": "markdown",
   "source": [
    "define plot function"
   ],
   "metadata": {
    "collapsed": false
   }
  },
  {
   "cell_type": "code",
   "execution_count": 104,
   "outputs": [],
   "source": [
    "def plot(x_epochs, train_loss, test_loss, test_acc):\n",
    "    plt.title('Loss curves')\n",
    "    plt.plot(x_epochs, train_loss, 'red', label='Train loss')\n",
    "    plt.plot(x_epochs, test_loss, 'green', label='Test loss')\n",
    "    plt.legend(loc='best')\n",
    "    plt.show()\n",
    "\n",
    "    plt.title('Test accuracy')\n",
    "    plt.plot(x_epochs, test_acc)\n",
    "    plt.show()"
   ],
   "metadata": {
    "collapsed": false
   }
  },
  {
   "cell_type": "markdown",
   "source": [
    "define train loop"
   ],
   "metadata": {
    "collapsed": false
   }
  },
  {
   "cell_type": "code",
   "execution_count": 105,
   "outputs": [],
   "source": [
    "def train(model: nn.Module,\n",
    "          epochs: int,\n",
    "          criterion: nn.CrossEntropyLoss,\n",
    "          train_loader: torch.utils.data.DataLoader,\n",
    "          test_loader: torch.utils.data.DataLoader,\n",
    "          device: torch.device) -> None:\n",
    "    train_losses = []\n",
    "    test_accuracies = []\n",
    "    test_losses = []\n",
    "    test_accuracy_untrained, test_loss_untrained = test(model, criterion, test_loader, device)\n",
    "    print(f'On untrained model, test set: acc={test_accuracy_untrained*100:.2f}, loss={test_loss_untrained:.4f}')\n",
    "\n",
    "    for epoch in range(1, epochs + 1):\n",
    "        model.train()\n",
    "        running_train_loss = 0\n",
    "        for x, y in train_loader:\n",
    "            x, y = x.to(device), y.to(device)\n",
    "            y_hat = model(x)\n",
    "            loss = criterion(y_hat, y)\n",
    "            running_train_loss += loss.item() * x.shape[0]\n",
    "\n",
    "            model.zero_grad()\n",
    "            loss.backward()\n",
    "            optimizer.step()\n",
    "        train_losses.append(running_train_loss / len(train_loader.dataset))\n",
    "        test_accuracy, test_loss = test(model, criterion, test_loader, device)\n",
    "        print(f'Epoch {epoch}/{epochs}, train set: loss={train_losses[-1]:.4f}')\n",
    "        print(f'Epoch {epoch}/{epochs}, test set: acc={test_accuracy*100:.2f}%, loss={test_loss:.4f}')\n",
    "        test_losses.append(test_loss)\n",
    "        test_accuracies.append(test_accuracy)\n",
    "    x_epochs = list(range(1, epochs+1))\n",
    "    plot(x_epochs, train_losses, test_losses, test_accuracies)"
   ],
   "metadata": {
    "collapsed": false
   }
  },
  {
   "cell_type": "markdown",
   "id": "73b6dcbe",
   "metadata": {},
   "source": [
    "Definiti in mod convenabil functii de antrenare si de validare. Puteti reutiliza cod din notebook-urile anterioare. "
   ]
  },
  {
   "cell_type": "markdown",
   "id": "40016d9b",
   "metadata": {},
   "source": [
    "## Definire model"
   ]
  },
  {
   "cell_type": "code",
   "execution_count": 106,
   "id": "93b2ea72",
   "metadata": {
    "ExecuteTime": {
     "end_time": "2023-05-04T04:20:05.581355Z",
     "start_time": "2023-05-04T04:20:05.185132Z"
    }
   },
   "outputs": [],
   "source": [
    "class ConvNet(nn.Module):\n",
    "    def __init__(self, classes: int):\n",
    "        super(ConvNet, self).__init__()\n",
    "        self.conv_layer_1 = nn.Sequential(\n",
    "            nn.Conv2d(in_channels=3, out_channels=16, kernel_size=3, stride=1, padding=1),\n",
    "            nn.BatchNorm2d(num_features=16, eps=1e-05, momentum=0.05, affine=True),\n",
    "            nn.ReLU(),\n",
    "\n",
    "            nn.Conv2d(in_channels=16, out_channels=64, kernel_size=3, stride=1, padding=1),\n",
    "            nn.BatchNorm2d(num_features=64, eps=1e-05, momentum=0.05, affine=True),\n",
    "            nn.ReLU(),\n",
    "\n",
    "            nn.MaxPool2d(kernel_size=2, stride=2),  # 64 x 16 x 16\n",
    "            nn.Dropout(0.15)\n",
    "        )\n",
    "        self.conv_layer_2 = nn.Sequential(\n",
    "            nn.Conv2d(in_channels=64, out_channels=128, kernel_size=3, stride=1, padding=1),\n",
    "            nn.BatchNorm2d(num_features=128, eps=1e-05, momentum=0.05, affine=True),\n",
    "            nn.ReLU(),\n",
    "\n",
    "            nn.MaxPool2d(kernel_size=2, stride=2), # 128 x 8 x 8\n",
    "            nn.Dropout(0.1)\n",
    "        )\n",
    "        self.conv_layer_3 = nn.Sequential(\n",
    "            nn.Conv2d(in_channels=128, out_channels=256, kernel_size=3, stride=1, padding=1),\n",
    "            nn.BatchNorm2d(num_features=256, eps=1e-05, momentum=0.05, affine=True),\n",
    "            nn.ReLU(),\n",
    "\n",
    "            nn.Conv2d(in_channels=256, out_channels=512, kernel_size=1, stride=1),\n",
    "            nn.BatchNorm2d(num_features=512, eps=1e-05, momentum=0.05, affine=True),\n",
    "            nn.ReLU(),\n",
    "\n",
    "            nn.MaxPool2d(kernel_size=2, stride=2), # 512 x 4 x 4\n",
    "            nn.Dropout(0.15)\n",
    "        )\n",
    "        self.conv_layer_4 = nn.Sequential(\n",
    "            nn.Conv2d(in_channels=512, out_channels=512, kernel_size=3, stride=1), #512 x 2 x 2\n",
    "            nn.BatchNorm2d(num_features=512, eps=1e-05, momentum=0.05, affine=True),\n",
    "            nn.ReLU(),\n",
    "\n",
    "            nn.MaxPool2d(kernel_size=2), # 512 x 1 x 1\n",
    "            nn.Dropout(0.2)\n",
    "        )\n",
    "        self.fully_connected = nn.Sequential(\n",
    "            nn.Linear(in_features=512, out_features=256),\n",
    "            nn.Sigmoid(),\n",
    "            nn.Linear(in_features=256, out_features=124),\n",
    "            nn.Sigmoid(),\n",
    "            nn.Linear(in_features=124, out_features=classes)\n",
    "        )\n",
    "    def forward(self, x):\n",
    "        out = self.conv_layer_1(x)\n",
    "        out = self.conv_layer_2(out)\n",
    "        out = self.conv_layer_3(out)\n",
    "        out = self.conv_layer_4(out)\n",
    "        out = out.view(-1, 512)\n",
    "        out = self.fully_connected(out)\n",
    "        return out"
   ]
  },
  {
   "cell_type": "markdown",
   "id": "af46deda",
   "metadata": {},
   "source": [
    "## Antrenare si validare"
   ]
  },
  {
   "cell_type": "code",
   "execution_count": 107,
   "outputs": [
    {
     "name": "stdout",
     "output_type": "stream",
     "text": [
      "=================================================================\n",
      "Layer (type:depth-idx)                   Param #\n",
      "=================================================================\n",
      "├─Sequential: 1-1                        --\n",
      "|    └─Conv2d: 2-1                       448\n",
      "|    └─BatchNorm2d: 2-2                  32\n",
      "|    └─ReLU: 2-3                         --\n",
      "|    └─Conv2d: 2-4                       9,280\n",
      "|    └─BatchNorm2d: 2-5                  128\n",
      "|    └─ReLU: 2-6                         --\n",
      "|    └─MaxPool2d: 2-7                    --\n",
      "|    └─Dropout: 2-8                      --\n",
      "├─Sequential: 1-2                        --\n",
      "|    └─Conv2d: 2-9                       73,856\n",
      "|    └─BatchNorm2d: 2-10                 256\n",
      "|    └─ReLU: 2-11                        --\n",
      "|    └─MaxPool2d: 2-12                   --\n",
      "|    └─Dropout: 2-13                     --\n",
      "├─Sequential: 1-3                        --\n",
      "|    └─Conv2d: 2-14                      295,168\n",
      "|    └─BatchNorm2d: 2-15                 512\n",
      "|    └─ReLU: 2-16                        --\n",
      "|    └─Conv2d: 2-17                      131,584\n",
      "|    └─BatchNorm2d: 2-18                 1,024\n",
      "|    └─ReLU: 2-19                        --\n",
      "|    └─MaxPool2d: 2-20                   --\n",
      "|    └─Dropout: 2-21                     --\n",
      "├─Sequential: 1-4                        --\n",
      "|    └─Conv2d: 2-22                      2,359,808\n",
      "|    └─BatchNorm2d: 2-23                 1,024\n",
      "|    └─ReLU: 2-24                        --\n",
      "|    └─MaxPool2d: 2-25                   --\n",
      "|    └─Dropout: 2-26                     --\n",
      "├─Sequential: 1-5                        --\n",
      "|    └─Linear: 2-27                      131,328\n",
      "|    └─Sigmoid: 2-28                     --\n",
      "|    └─Linear: 2-29                      31,868\n",
      "|    └─Sigmoid: 2-30                     --\n",
      "|    └─Linear: 2-31                      12,500\n",
      "=================================================================\n",
      "Total params: 3,048,816\n",
      "Trainable params: 3,048,816\n",
      "Non-trainable params: 0\n",
      "=================================================================\n"
     ]
    },
    {
     "data": {
      "text/plain": "=================================================================\nLayer (type:depth-idx)                   Param #\n=================================================================\n├─Sequential: 1-1                        --\n|    └─Conv2d: 2-1                       448\n|    └─BatchNorm2d: 2-2                  32\n|    └─ReLU: 2-3                         --\n|    └─Conv2d: 2-4                       9,280\n|    └─BatchNorm2d: 2-5                  128\n|    └─ReLU: 2-6                         --\n|    └─MaxPool2d: 2-7                    --\n|    └─Dropout: 2-8                      --\n├─Sequential: 1-2                        --\n|    └─Conv2d: 2-9                       73,856\n|    └─BatchNorm2d: 2-10                 256\n|    └─ReLU: 2-11                        --\n|    └─MaxPool2d: 2-12                   --\n|    └─Dropout: 2-13                     --\n├─Sequential: 1-3                        --\n|    └─Conv2d: 2-14                      295,168\n|    └─BatchNorm2d: 2-15                 512\n|    └─ReLU: 2-16                        --\n|    └─Conv2d: 2-17                      131,584\n|    └─BatchNorm2d: 2-18                 1,024\n|    └─ReLU: 2-19                        --\n|    └─MaxPool2d: 2-20                   --\n|    └─Dropout: 2-21                     --\n├─Sequential: 1-4                        --\n|    └─Conv2d: 2-22                      2,359,808\n|    └─BatchNorm2d: 2-23                 1,024\n|    └─ReLU: 2-24                        --\n|    └─MaxPool2d: 2-25                   --\n|    └─Dropout: 2-26                     --\n├─Sequential: 1-5                        --\n|    └─Linear: 2-27                      131,328\n|    └─Sigmoid: 2-28                     --\n|    └─Linear: 2-29                      31,868\n|    └─Sigmoid: 2-30                     --\n|    └─Linear: 2-31                      12,500\n=================================================================\nTotal params: 3,048,816\nTrainable params: 3,048,816\nNon-trainable params: 0\n================================================================="
     },
     "execution_count": 107,
     "metadata": {},
     "output_type": "execute_result"
    }
   ],
   "source": [
    "import torchsummary\n",
    "\n",
    "model = ConvNet(classes=100)\n",
    "summary(model)"
   ],
   "metadata": {
    "collapsed": false
   }
  },
  {
   "cell_type": "code",
   "execution_count": 108,
   "outputs": [],
   "source": [
    "\n",
    "epochs = 50\n",
    "lr = 0.01\n",
    "momentum = 0.9\n",
    "weight_decay = 0.0001\n",
    "\n",
    "criterion = nn.CrossEntropyLoss()\n",
    "optimizer = torch.optim.SGD(model.parameters(), lr=lr, momentum=momentum, weight_decay=weight_decay)"
   ],
   "metadata": {
    "collapsed": false
   }
  },
  {
   "cell_type": "code",
   "execution_count": 109,
   "outputs": [
    {
     "name": "stdout",
     "output_type": "stream",
     "text": [
      "On untrained model, test set: acc=1.00, loss=4.6448\n",
      "Epoch 1/50, train set: loss=4.3845\n",
      "Epoch 1/50, test set: acc=5.23%, loss=4.0866\n",
      "Epoch 2/50, train set: loss=4.0317\n",
      "Epoch 2/50, test set: acc=9.85%, loss=3.7020\n",
      "Epoch 3/50, train set: loss=3.7879\n",
      "Epoch 3/50, test set: acc=14.58%, loss=3.4917\n",
      "Epoch 4/50, train set: loss=3.5976\n",
      "Epoch 4/50, test set: acc=18.63%, loss=3.2481\n",
      "Epoch 5/50, train set: loss=3.4205\n",
      "Epoch 5/50, test set: acc=21.69%, loss=3.1024\n",
      "Epoch 6/50, train set: loss=3.2739\n",
      "Epoch 6/50, test set: acc=26.06%, loss=2.8744\n"
     ]
    },
    {
     "ename": "KeyboardInterrupt",
     "evalue": "",
     "output_type": "error",
     "traceback": [
      "\u001B[0;31m---------------------------------------------------------------------------\u001B[0m",
      "\u001B[0;31mKeyboardInterrupt\u001B[0m                         Traceback (most recent call last)",
      "Cell \u001B[0;32mIn[109], line 1\u001B[0m\n\u001B[0;32m----> 1\u001B[0m \u001B[43mtrain\u001B[49m\u001B[43m(\u001B[49m\u001B[43mmodel\u001B[49m\u001B[43m,\u001B[49m\u001B[43m \u001B[49m\u001B[43mepochs\u001B[49m\u001B[43m,\u001B[49m\u001B[43m \u001B[49m\u001B[43mcriterion\u001B[49m\u001B[43m,\u001B[49m\u001B[43m \u001B[49m\u001B[43mtrain_loader\u001B[49m\u001B[43m,\u001B[49m\u001B[43m \u001B[49m\u001B[43mtest_loader\u001B[49m\u001B[43m,\u001B[49m\u001B[43m \u001B[49m\u001B[43mdevice\u001B[49m\u001B[43m)\u001B[49m\n",
      "Cell \u001B[0;32mIn[105], line 23\u001B[0m, in \u001B[0;36mtrain\u001B[0;34m(model, epochs, criterion, train_loader, test_loader, device)\u001B[0m\n\u001B[1;32m     20\u001B[0m     running_train_loss \u001B[38;5;241m+\u001B[39m\u001B[38;5;241m=\u001B[39m loss\u001B[38;5;241m.\u001B[39mitem() \u001B[38;5;241m*\u001B[39m x\u001B[38;5;241m.\u001B[39mshape[\u001B[38;5;241m0\u001B[39m]\n\u001B[1;32m     22\u001B[0m     model\u001B[38;5;241m.\u001B[39mzero_grad()\n\u001B[0;32m---> 23\u001B[0m     \u001B[43mloss\u001B[49m\u001B[38;5;241;43m.\u001B[39;49m\u001B[43mbackward\u001B[49m\u001B[43m(\u001B[49m\u001B[43m)\u001B[49m\n\u001B[1;32m     24\u001B[0m     optimizer\u001B[38;5;241m.\u001B[39mstep()\n\u001B[1;32m     25\u001B[0m train_losses\u001B[38;5;241m.\u001B[39mappend(running_train_loss \u001B[38;5;241m/\u001B[39m \u001B[38;5;28mlen\u001B[39m(train_loader\u001B[38;5;241m.\u001B[39mdataset))\n",
      "File \u001B[0;32m~/anaconda3/envs/IA/lib/python3.9/site-packages/torch/_tensor.py:396\u001B[0m, in \u001B[0;36mTensor.backward\u001B[0;34m(self, gradient, retain_graph, create_graph, inputs)\u001B[0m\n\u001B[1;32m    387\u001B[0m \u001B[38;5;28;01mif\u001B[39;00m has_torch_function_unary(\u001B[38;5;28mself\u001B[39m):\n\u001B[1;32m    388\u001B[0m     \u001B[38;5;28;01mreturn\u001B[39;00m handle_torch_function(\n\u001B[1;32m    389\u001B[0m         Tensor\u001B[38;5;241m.\u001B[39mbackward,\n\u001B[1;32m    390\u001B[0m         (\u001B[38;5;28mself\u001B[39m,),\n\u001B[0;32m   (...)\u001B[0m\n\u001B[1;32m    394\u001B[0m         create_graph\u001B[38;5;241m=\u001B[39mcreate_graph,\n\u001B[1;32m    395\u001B[0m         inputs\u001B[38;5;241m=\u001B[39minputs)\n\u001B[0;32m--> 396\u001B[0m \u001B[43mtorch\u001B[49m\u001B[38;5;241;43m.\u001B[39;49m\u001B[43mautograd\u001B[49m\u001B[38;5;241;43m.\u001B[39;49m\u001B[43mbackward\u001B[49m\u001B[43m(\u001B[49m\u001B[38;5;28;43mself\u001B[39;49m\u001B[43m,\u001B[49m\u001B[43m \u001B[49m\u001B[43mgradient\u001B[49m\u001B[43m,\u001B[49m\u001B[43m \u001B[49m\u001B[43mretain_graph\u001B[49m\u001B[43m,\u001B[49m\u001B[43m \u001B[49m\u001B[43mcreate_graph\u001B[49m\u001B[43m,\u001B[49m\u001B[43m \u001B[49m\u001B[43minputs\u001B[49m\u001B[38;5;241;43m=\u001B[39;49m\u001B[43minputs\u001B[49m\u001B[43m)\u001B[49m\n",
      "File \u001B[0;32m~/anaconda3/envs/IA/lib/python3.9/site-packages/torch/autograd/__init__.py:173\u001B[0m, in \u001B[0;36mbackward\u001B[0;34m(tensors, grad_tensors, retain_graph, create_graph, grad_variables, inputs)\u001B[0m\n\u001B[1;32m    168\u001B[0m     retain_graph \u001B[38;5;241m=\u001B[39m create_graph\n\u001B[1;32m    170\u001B[0m \u001B[38;5;66;03m# The reason we repeat same the comment below is that\u001B[39;00m\n\u001B[1;32m    171\u001B[0m \u001B[38;5;66;03m# some Python versions print out the first line of a multi-line function\u001B[39;00m\n\u001B[1;32m    172\u001B[0m \u001B[38;5;66;03m# calls in the traceback and some print out the last line\u001B[39;00m\n\u001B[0;32m--> 173\u001B[0m \u001B[43mVariable\u001B[49m\u001B[38;5;241;43m.\u001B[39;49m\u001B[43m_execution_engine\u001B[49m\u001B[38;5;241;43m.\u001B[39;49m\u001B[43mrun_backward\u001B[49m\u001B[43m(\u001B[49m\u001B[43m  \u001B[49m\u001B[38;5;66;43;03m# Calls into the C++ engine to run the backward pass\u001B[39;49;00m\n\u001B[1;32m    174\u001B[0m \u001B[43m    \u001B[49m\u001B[43mtensors\u001B[49m\u001B[43m,\u001B[49m\u001B[43m \u001B[49m\u001B[43mgrad_tensors_\u001B[49m\u001B[43m,\u001B[49m\u001B[43m \u001B[49m\u001B[43mretain_graph\u001B[49m\u001B[43m,\u001B[49m\u001B[43m \u001B[49m\u001B[43mcreate_graph\u001B[49m\u001B[43m,\u001B[49m\u001B[43m \u001B[49m\u001B[43minputs\u001B[49m\u001B[43m,\u001B[49m\n\u001B[1;32m    175\u001B[0m \u001B[43m    \u001B[49m\u001B[43mallow_unreachable\u001B[49m\u001B[38;5;241;43m=\u001B[39;49m\u001B[38;5;28;43;01mTrue\u001B[39;49;00m\u001B[43m,\u001B[49m\u001B[43m \u001B[49m\u001B[43maccumulate_grad\u001B[49m\u001B[38;5;241;43m=\u001B[39;49m\u001B[38;5;28;43;01mTrue\u001B[39;49;00m\u001B[43m)\u001B[49m\n",
      "\u001B[0;31mKeyboardInterrupt\u001B[0m: "
     ]
    }
   ],
   "source": [
    "train(model, epochs, criterion, train_loader, test_loader, device)"
   ],
   "metadata": {
    "collapsed": false
   }
  },
  {
   "cell_type": "markdown",
   "id": "723c5d09",
   "metadata": {},
   "source": [
    "Se vor tipari si prezenta ploturi (loss, acuratete) pe seturile de antrenare si validare la finalul fiecarei epoci."
   ]
  }
 ],
 "metadata": {
  "kernelspec": {
   "display_name": "Python 3 (ipykernel)",
   "language": "python",
   "name": "python3"
  },
  "language_info": {
   "codemirror_mode": {
    "name": "ipython",
    "version": 3
   },
   "file_extension": ".py",
   "mimetype": "text/x-python",
   "name": "python",
   "nbconvert_exporter": "python",
   "pygments_lexer": "ipython3",
   "version": "3.10.9"
  },
  "toc": {
   "base_numbering": 1,
   "nav_menu": {},
   "number_sections": true,
   "sideBar": true,
   "skip_h1_title": false,
   "title_cell": "Table of Contents",
   "title_sidebar": "Contents",
   "toc_cell": false,
   "toc_position": {},
   "toc_section_display": true,
   "toc_window_display": false
  },
  "varInspector": {
   "cols": {
    "lenName": 16,
    "lenType": 16,
    "lenVar": 40
   },
   "kernels_config": {
    "python": {
     "delete_cmd_postfix": "",
     "delete_cmd_prefix": "del ",
     "library": "var_list.py",
     "varRefreshCmd": "print(var_dic_list())"
    },
    "r": {
     "delete_cmd_postfix": ") ",
     "delete_cmd_prefix": "rm(",
     "library": "var_list.r",
     "varRefreshCmd": "cat(var_dic_list()) "
    }
   },
   "types_to_exclude": [
    "module",
    "function",
    "builtin_function_or_method",
    "instance",
    "_Feature"
   ],
   "window_display": false
  }
 },
 "nbformat": 4,
 "nbformat_minor": 5
}
