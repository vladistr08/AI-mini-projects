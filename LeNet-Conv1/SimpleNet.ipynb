{
 "cells": [
  {
   "cell_type": "markdown",
   "source": [
    "Setting up the imports"
   ],
   "metadata": {
    "collapsed": false
   }
  },
  {
   "cell_type": "code",
   "execution_count": 193,
   "metadata": {
    "collapsed": true,
    "ExecuteTime": {
     "end_time": "2023-05-10T12:51:08.054370900Z",
     "start_time": "2023-05-10T12:51:08.035365500Z"
    }
   },
   "outputs": [],
   "source": [
    "import torch\n",
    "from torch import nn\n",
    "import torchvision\n",
    "from torch.utils.data import DataLoader\n",
    "\n",
    "import matplotlib.pyplot as plt\n",
    "\n",
    "from typing import Tuple, List"
   ]
  },
  {
   "cell_type": "markdown",
   "source": [
    "Setting up the device"
   ],
   "metadata": {
    "collapsed": false
   }
  },
  {
   "cell_type": "code",
   "execution_count": 194,
   "outputs": [],
   "source": [
    "device: str = 'cuda' if torch.cuda.is_available() else 'cpu'\n"
   ],
   "metadata": {
    "collapsed": false,
    "ExecuteTime": {
     "end_time": "2023-05-10T12:51:08.071373900Z",
     "start_time": "2023-05-10T12:51:08.038367200Z"
    }
   }
  },
  {
   "cell_type": "markdown",
   "source": [
    "Setting up the Cifar10 Dataset"
   ],
   "metadata": {
    "collapsed": false
   }
  },
  {
   "cell_type": "code",
   "execution_count": 195,
   "outputs": [
    {
     "name": "stdout",
     "output_type": "stream",
     "text": [
      "Files already downloaded and verified\n",
      "Files already downloaded and verified\n"
     ]
    }
   ],
   "source": [
    "transforms = torchvision.transforms\n",
    "train_augmentations = transforms.Compose([transforms.RandomGrayscale(0.2),\n",
    "                                          transforms.RandomHorizontalFlip(0.5),\n",
    "                                          transforms.RandomVerticalFlip(0.2),\n",
    "                                          transforms.RandomRotation(30),\n",
    "                                          transforms.RandomAdjustSharpness(0.4),\n",
    "                                          transforms.ToTensor(),\n",
    "                                          transforms.Normalize((0.4914, 0.4822, 0.4465), (0.2023, 0.1994, 0.2010))\n",
    "                                         ])\n",
    "\n",
    "test_augmentations = transforms.Compose([transforms.ToTensor(),\n",
    "                                         transforms.Normalize((0.4914, 0.4822, 0.4465), (0.2023, 0.1994, 0.2010))]\n",
    "                                       )\n",
    "train_dataset = torchvision.datasets.CIFAR10(\n",
    "    root='./data', train=True, download=True, transform=train_augmentations\n",
    ")\n",
    "\n",
    "test_dataset = torchvision.datasets.CIFAR10(\n",
    "    root='./data', train=False, download=True, transform=test_augmentations\n",
    ")"
   ],
   "metadata": {
    "collapsed": false,
    "ExecuteTime": {
     "end_time": "2023-05-10T12:51:09.050605Z",
     "start_time": "2023-05-10T12:51:08.056371300Z"
    }
   }
  },
  {
   "cell_type": "markdown",
   "source": [
    "Setting up the DataLoader"
   ],
   "metadata": {
    "collapsed": false
   }
  },
  {
   "cell_type": "code",
   "execution_count": 196,
   "outputs": [],
   "source": [
    "batch_size = 32\n",
    "\n",
    "train_loader = torch.utils.data.DataLoader(\n",
    "    train_dataset, batch_size=batch_size, shuffle=True, num_workers=2\n",
    ")\n",
    "\n",
    "test_loader = torch.utils.data.DataLoader(\n",
    "    test_dataset, batch_size=batch_size, shuffle=False, num_workers=2\n",
    ")"
   ],
   "metadata": {
    "collapsed": false,
    "ExecuteTime": {
     "end_time": "2023-05-10T12:51:09.050605Z",
     "start_time": "2023-05-10T12:51:08.981588400Z"
    }
   }
  },
  {
   "cell_type": "markdown",
   "source": [
    "Just a preview"
   ],
   "metadata": {
    "collapsed": false
   }
  },
  {
   "cell_type": "code",
   "execution_count": 197,
   "outputs": [
    {
     "name": "stdout",
     "output_type": "stream",
     "text": [
      "torch.Size([32, 3, 32, 32])\n",
      "torch.Size([32])\n"
     ]
    }
   ],
   "source": [
    "for x, y in train_loader:\n",
    "    print(x.shape)\n",
    "    print(y.shape)\n",
    "    break"
   ],
   "metadata": {
    "collapsed": false,
    "ExecuteTime": {
     "end_time": "2023-05-10T12:51:12.398391100Z",
     "start_time": "2023-05-10T12:51:08.996592Z"
    }
   }
  },
  {
   "cell_type": "markdown",
   "source": [
    "The Convolutional Neural Network class"
   ],
   "metadata": {
    "collapsed": false
   }
  },
  {
   "cell_type": "code",
   "execution_count": 198,
   "outputs": [],
   "source": [
    "class ConvNet(nn.Module):\n",
    "    def __init__(self, classes: int):\n",
    "        super(ConvNet, self).__init__()\n",
    "        self.convolution_layers = nn.Sequential(\n",
    "             nn.Conv2d(3, 64, kernel_size=3, stride=1, padding=1), # 64 x 32 x 32\n",
    "             nn.BatchNorm2d(64, eps=1e-05, momentum=0.05, affine=True),\n",
    "             nn.ReLU(inplace=True),\n",
    "\n",
    "             nn.Conv2d(64, 128, kernel_size=3, stride=1, padding=1), # 128 x 32 x 32\n",
    "             nn.BatchNorm2d(128, eps=1e-05, momentum=0.05, affine=True),\n",
    "             nn.ReLU(inplace=True),\n",
    "\n",
    "             nn.Conv2d(128, 128, kernel_size=3, stride=1, padding=1), # 128 x 32 x 32\n",
    "             nn.BatchNorm2d(128, eps=1e-05, momentum=0.05, affine=True),\n",
    "             nn.ReLU(inplace=True),\n",
    "\n",
    "             nn.Conv2d(128, 128, kernel_size=3, stride=1, padding=1), # 128 x 32 x 32\n",
    "             nn.BatchNorm2d(128, eps=1e-05, momentum=0.05, affine=True),\n",
    "             nn.ReLU(inplace=True),\n",
    "\n",
    "\n",
    "             nn.MaxPool2d(kernel_size=2, stride=2, dilation=1, ceil_mode=False), # 128 x 16 x 16\n",
    "             nn.Dropout2d(p=0.1),\n",
    "\n",
    "\n",
    "             nn.Conv2d(128, 128, kernel_size=3, stride=1, padding=1), # 128 x 16 x 16\n",
    "             nn.BatchNorm2d(128, eps=1e-05, momentum=0.05, affine=True),\n",
    "             nn.ReLU(inplace=True),\n",
    "\n",
    "             nn.Conv2d(128, 128, kernel_size=3, stride=1, padding=1), # 128 x 16 x 16\n",
    "             nn.BatchNorm2d(128, eps=1e-05, momentum=0.05, affine=True),\n",
    "             nn.ReLU(inplace=True),\n",
    "\n",
    "             nn.Conv2d(128, 256, kernel_size=3, stride=1, padding=1), # 256 x 16 x 16\n",
    "             nn.BatchNorm2d(256, eps=1e-05, momentum=0.05, affine=True),\n",
    "             nn.ReLU(inplace=True),\n",
    "\n",
    "\n",
    "\n",
    "             nn.MaxPool2d(kernel_size=2, stride=2, dilation=1, ceil_mode=False), # 256 x 8 x 8\n",
    "             nn.Dropout2d(p=0.1),\n",
    "\n",
    "\n",
    "             nn.Conv2d(256, 256, kernel_size=3, stride=1, padding=1), # 256 x 8 x 8\n",
    "             nn.BatchNorm2d(256, eps=1e-05, momentum=0.05, affine=True),\n",
    "             nn.ReLU(inplace=True),\n",
    "\n",
    "\n",
    "             nn.Conv2d(256, 256, kernel_size=3, stride=1, padding=1), # 256 x 8 x 8\n",
    "             nn.BatchNorm2d(256, eps=1e-05, momentum=0.05, affine=True),\n",
    "             nn.ReLU(inplace=True),\n",
    "\n",
    "\n",
    "             nn.MaxPool2d(kernel_size=2, stride=2, dilation=1, ceil_mode=False), # 256 x 4 x 4\n",
    "             nn.Dropout2d(p=0.1),\n",
    "\n",
    "\n",
    "             nn.Conv2d(256, 512, kernel_size=3, stride=1, padding=1), # 512 x 4 x 4\n",
    "             nn.BatchNorm2d(512, eps=1e-05, momentum=0.05, affine=True),\n",
    "             nn.ReLU(inplace=True),\n",
    "\n",
    "\n",
    "             nn.MaxPool2d(kernel_size=2, stride=2, dilation=1, ceil_mode=False), # 512 x 2 x 2\n",
    "             nn.Dropout2d(p=0.1),\n",
    "\n",
    "\n",
    "             nn.Conv2d(512, 2048, kernel_size=1, stride=1, padding=0), # 2048 x 2 x 2\n",
    "             nn.BatchNorm2d(2048, eps=1e-05, momentum=0.05, affine=True),\n",
    "             nn.ReLU(inplace=True),\n",
    "\n",
    "\n",
    "             nn.Conv2d(2048, 256, kernel_size=1, stride=1, padding=0), # 256 x 2 x 2\n",
    "             nn.BatchNorm2d(256, eps=1e-05, momentum=0.05, affine=True),\n",
    "             nn.ReLU(inplace=True),\n",
    "\n",
    "\n",
    "             nn.MaxPool2d(kernel_size=2, stride=2, dilation=1, ceil_mode=False), # 256 x 1 x 1\n",
    "             nn.Dropout2d(p=0.1)\n",
    "        )\n",
    "\n",
    "        self.fully_connected = nn.Sequential(\n",
    "            nn.Linear(256, 100),\n",
    "            nn.Tanh(),\n",
    "            nn.Linear(100, classes),\n",
    "        )\n",
    "    def forward(self, x):\n",
    "        out = self.convolution_layers(x)\n",
    "        out = out.view(-1, 256)\n",
    "        out = self.fully_connected(out)\n",
    "        return out"
   ],
   "metadata": {
    "collapsed": false,
    "ExecuteTime": {
     "end_time": "2023-05-10T12:51:12.404392400Z",
     "start_time": "2023-05-10T12:51:12.389388800Z"
    }
   }
  },
  {
   "cell_type": "markdown",
   "source": [
    "Define testing loop"
   ],
   "metadata": {
    "collapsed": false
   }
  },
  {
   "cell_type": "code",
   "execution_count": 199,
   "outputs": [],
   "source": [
    "@torch.no_grad()\n",
    "def test(\n",
    "        model: nn.Module,\n",
    "        criterion: nn.CrossEntropyLoss,\n",
    "        loader: torch.utils.data.DataLoader,\n",
    "        device: torch.device\n",
    ") -> Tuple[float, float]:\n",
    "    model.eval()\n",
    "    accuracy, test_loss = 0, 0\n",
    "    for x, y in loader:\n",
    "        x, y = x.to(device), y.to(device)\n",
    "        y_hat = model(x)\n",
    "        test_loss += criterion(y_hat, y).item() * x.shape[0]\n",
    "        _, predicted = torch.max(y_hat, axis=1)\n",
    "        accuracy += (predicted == y).sum().item()\n",
    "    accuracy /= len(loader.dataset)\n",
    "    test_loss /= len(loader.dataset)\n",
    "    return accuracy, test_loss"
   ],
   "metadata": {
    "collapsed": false,
    "ExecuteTime": {
     "end_time": "2023-05-10T12:51:12.415394900Z",
     "start_time": "2023-05-10T12:51:12.400391400Z"
    }
   }
  },
  {
   "cell_type": "markdown",
   "source": [
    "Define training loop"
   ],
   "metadata": {
    "collapsed": false
   }
  },
  {
   "cell_type": "code",
   "execution_count": 200,
   "outputs": [],
   "source": [
    "def train(model: nn.Module,\n",
    "          epochs: int,\n",
    "          criterion: nn.CrossEntropyLoss,\n",
    "          train_loader: torch.utils.data.DataLoader,\n",
    "          test_loader: torch.utils.data.DataLoader,\n",
    "          device: torch.device) -> None:\n",
    "    train_losses = []\n",
    "    test_accuracies = []\n",
    "    test_losses = []\n",
    "    test_accuracy_untrained, test_loss_untrained = test(model, criterion, test_loader, device)\n",
    "    print(f'On untrained model, test set: acc={test_accuracy_untrained*100:.2f}, loss={test_loss_untrained:.4f}')\n",
    "\n",
    "    for epoch in range(1, epochs + 1):\n",
    "        model.train()\n",
    "        running_train_loss = 0\n",
    "        for x, y in train_loader:\n",
    "            x, y = x.to(device), y.to(device)\n",
    "            y_hat = model(x)\n",
    "            loss = criterion(y_hat, y)\n",
    "            running_train_loss += loss.item() * x.shape[0]\n",
    "\n",
    "            model.zero_grad()\n",
    "            loss.backward()\n",
    "            optimizer.step()\n",
    "        train_losses.append(running_train_loss / len(train_loader.dataset))\n",
    "        test_accuracy, test_loss = test(model, criterion, test_loader, device)\n",
    "        print(f'Epoch {epoch}/{epochs}, train set: loss={train_losses[-1]:.4f}')\n",
    "        print(f'Epoch {epoch}/{epochs}, test set: acc={test_accuracy*100:.2f}%, loss={test_loss:.4f}')\n",
    "        test_losses.append(test_loss)\n",
    "        test_accuracies.append(test_accuracy)\n",
    "    x_epochs = list(range(1, epochs+1))\n",
    "    plt.title('Loss curves')\n",
    "    plt.plot(x_epochs, train_losses, 'red', label='Train loss')\n",
    "    plt.plot(x_epochs, test_losses, 'green', label='Test loss')\n",
    "    plt.legend(loc='best')\n",
    "    plt.show()\n",
    "\n",
    "    plt.title('Test accuracy')\n",
    "    plt.plot(x_epochs, test_accuracies)\n",
    "    plt.show()"
   ],
   "metadata": {
    "collapsed": false,
    "ExecuteTime": {
     "end_time": "2023-05-10T12:51:12.433588200Z",
     "start_time": "2023-05-10T12:51:12.418395600Z"
    }
   }
  },
  {
   "cell_type": "markdown",
   "source": [
    "Define the model instance"
   ],
   "metadata": {
    "collapsed": false
   }
  },
  {
   "cell_type": "code",
   "execution_count": 201,
   "outputs": [
    {
     "data": {
      "text/plain": "ConvNet(\n  (convolution_layers): Sequential(\n    (0): Conv2d(3, 64, kernel_size=(3, 3), stride=(1, 1), padding=(1, 1))\n    (1): BatchNorm2d(64, eps=1e-05, momentum=0.05, affine=True, track_running_stats=True)\n    (2): ReLU(inplace=True)\n    (3): Conv2d(64, 128, kernel_size=(3, 3), stride=(1, 1), padding=(1, 1))\n    (4): BatchNorm2d(128, eps=1e-05, momentum=0.05, affine=True, track_running_stats=True)\n    (5): ReLU(inplace=True)\n    (6): Conv2d(128, 128, kernel_size=(3, 3), stride=(1, 1), padding=(1, 1))\n    (7): BatchNorm2d(128, eps=1e-05, momentum=0.05, affine=True, track_running_stats=True)\n    (8): ReLU(inplace=True)\n    (9): Conv2d(128, 128, kernel_size=(3, 3), stride=(1, 1), padding=(1, 1))\n    (10): BatchNorm2d(128, eps=1e-05, momentum=0.05, affine=True, track_running_stats=True)\n    (11): ReLU(inplace=True)\n    (12): MaxPool2d(kernel_size=2, stride=2, padding=0, dilation=1, ceil_mode=False)\n    (13): Dropout2d(p=0.1, inplace=False)\n    (14): Conv2d(128, 128, kernel_size=(3, 3), stride=(1, 1), padding=(1, 1))\n    (15): BatchNorm2d(128, eps=1e-05, momentum=0.05, affine=True, track_running_stats=True)\n    (16): ReLU(inplace=True)\n    (17): Conv2d(128, 128, kernel_size=(3, 3), stride=(1, 1), padding=(1, 1))\n    (18): BatchNorm2d(128, eps=1e-05, momentum=0.05, affine=True, track_running_stats=True)\n    (19): ReLU(inplace=True)\n    (20): Conv2d(128, 256, kernel_size=(3, 3), stride=(1, 1), padding=(1, 1))\n    (21): BatchNorm2d(256, eps=1e-05, momentum=0.05, affine=True, track_running_stats=True)\n    (22): ReLU(inplace=True)\n    (23): MaxPool2d(kernel_size=2, stride=2, padding=0, dilation=1, ceil_mode=False)\n    (24): Dropout2d(p=0.1, inplace=False)\n    (25): Conv2d(256, 256, kernel_size=(3, 3), stride=(1, 1), padding=(1, 1))\n    (26): BatchNorm2d(256, eps=1e-05, momentum=0.05, affine=True, track_running_stats=True)\n    (27): ReLU(inplace=True)\n    (28): Conv2d(256, 256, kernel_size=(3, 3), stride=(1, 1), padding=(1, 1))\n    (29): BatchNorm2d(256, eps=1e-05, momentum=0.05, affine=True, track_running_stats=True)\n    (30): ReLU(inplace=True)\n    (31): MaxPool2d(kernel_size=2, stride=2, padding=0, dilation=1, ceil_mode=False)\n    (32): Dropout2d(p=0.1, inplace=False)\n    (33): Conv2d(256, 512, kernel_size=(3, 3), stride=(1, 1), padding=(1, 1))\n    (34): BatchNorm2d(512, eps=1e-05, momentum=0.05, affine=True, track_running_stats=True)\n    (35): ReLU(inplace=True)\n    (36): MaxPool2d(kernel_size=2, stride=2, padding=0, dilation=1, ceil_mode=False)\n    (37): Dropout2d(p=0.1, inplace=False)\n    (38): Conv2d(512, 2048, kernel_size=(1, 1), stride=(1, 1))\n    (39): BatchNorm2d(2048, eps=1e-05, momentum=0.05, affine=True, track_running_stats=True)\n    (40): ReLU(inplace=True)\n    (41): Conv2d(2048, 256, kernel_size=(1, 1), stride=(1, 1))\n    (42): BatchNorm2d(256, eps=1e-05, momentum=0.05, affine=True, track_running_stats=True)\n    (43): ReLU(inplace=True)\n    (44): MaxPool2d(kernel_size=2, stride=2, padding=0, dilation=1, ceil_mode=False)\n    (45): Dropout2d(p=0.1, inplace=False)\n  )\n  (fully_connected): Sequential(\n    (0): Linear(in_features=256, out_features=100, bias=True)\n    (1): Tanh()\n    (2): Linear(in_features=100, out_features=10, bias=True)\n  )\n)"
     },
     "execution_count": 201,
     "metadata": {},
     "output_type": "execute_result"
    }
   ],
   "source": [
    "model = ConvNet(10)\n",
    "model.to(device)"
   ],
   "metadata": {
    "collapsed": false,
    "ExecuteTime": {
     "end_time": "2023-05-10T12:51:12.493603500Z",
     "start_time": "2023-05-10T12:51:12.431587600Z"
    }
   }
  },
  {
   "cell_type": "markdown",
   "source": [
    "Request summary"
   ],
   "metadata": {
    "collapsed": false
   }
  },
  {
   "cell_type": "code",
   "execution_count": 202,
   "outputs": [],
   "source": [
    "#from torchsummary import summary\n",
    "#summary(model)"
   ],
   "metadata": {
    "collapsed": false,
    "ExecuteTime": {
     "end_time": "2023-05-10T12:51:12.500601800Z",
     "start_time": "2023-05-10T12:51:12.462595300Z"
    }
   }
  },
  {
   "cell_type": "code",
   "execution_count": 203,
   "outputs": [],
   "source": [
    "epochs = 50\n",
    "lr = 0.00205\n",
    "momentum = 0.875\n",
    "weight_decay = 0.0001\n",
    "\n",
    "criterion = nn.CrossEntropyLoss()\n",
    "optimizer = torch.optim.SGD(model.parameters(), lr=lr, momentum=momentum, weight_decay=weight_decay)"
   ],
   "metadata": {
    "collapsed": false,
    "ExecuteTime": {
     "end_time": "2023-05-10T12:51:12.500601800Z",
     "start_time": "2023-05-10T12:51:12.493603500Z"
    }
   }
  },
  {
   "cell_type": "code",
   "execution_count": 204,
   "outputs": [
    {
     "name": "stdout",
     "output_type": "stream",
     "text": [
      "On untrained model, test set: acc=10.00, loss=2.3047\n",
      "Epoch 1/50, train set: loss=1.6710\n",
      "Epoch 1/50, test set: acc=56.52%, loss=1.1984\n",
      "Epoch 2/50, train set: loss=1.3485\n",
      "Epoch 2/50, test set: acc=64.40%, loss=1.0016\n",
      "Epoch 3/50, train set: loss=1.1868\n",
      "Epoch 3/50, test set: acc=69.68%, loss=0.8707\n",
      "Epoch 4/50, train set: loss=1.0848\n",
      "Epoch 4/50, test set: acc=74.00%, loss=0.7551\n",
      "Epoch 5/50, train set: loss=1.0102\n",
      "Epoch 5/50, test set: acc=76.32%, loss=0.6847\n",
      "Epoch 6/50, train set: loss=0.9568\n",
      "Epoch 6/50, test set: acc=76.87%, loss=0.6583\n",
      "Epoch 7/50, train set: loss=0.9101\n",
      "Epoch 7/50, test set: acc=78.54%, loss=0.6246\n",
      "Epoch 8/50, train set: loss=0.8741\n",
      "Epoch 8/50, test set: acc=80.89%, loss=0.5746\n",
      "Epoch 9/50, train set: loss=0.8381\n",
      "Epoch 9/50, test set: acc=81.21%, loss=0.5564\n",
      "Epoch 10/50, train set: loss=0.8054\n",
      "Epoch 10/50, test set: acc=81.47%, loss=0.5372\n",
      "Epoch 11/50, train set: loss=0.7842\n",
      "Epoch 11/50, test set: acc=80.55%, loss=0.5677\n",
      "Epoch 12/50, train set: loss=0.7590\n",
      "Epoch 12/50, test set: acc=82.79%, loss=0.4992\n",
      "Epoch 13/50, train set: loss=0.7378\n",
      "Epoch 13/50, test set: acc=82.36%, loss=0.5184\n",
      "Epoch 14/50, train set: loss=0.7166\n",
      "Epoch 14/50, test set: acc=83.41%, loss=0.4848\n",
      "Epoch 15/50, train set: loss=0.6981\n",
      "Epoch 15/50, test set: acc=83.74%, loss=0.4738\n",
      "Epoch 16/50, train set: loss=0.6843\n",
      "Epoch 16/50, test set: acc=83.91%, loss=0.4635\n",
      "Epoch 17/50, train set: loss=0.6686\n",
      "Epoch 17/50, test set: acc=84.52%, loss=0.4513\n",
      "Epoch 18/50, train set: loss=0.6506\n",
      "Epoch 18/50, test set: acc=85.24%, loss=0.4318\n",
      "Epoch 19/50, train set: loss=0.6411\n",
      "Epoch 19/50, test set: acc=85.90%, loss=0.4117\n",
      "Epoch 20/50, train set: loss=0.6288\n",
      "Epoch 20/50, test set: acc=85.50%, loss=0.4185\n",
      "Epoch 21/50, train set: loss=0.6131\n",
      "Epoch 21/50, test set: acc=85.63%, loss=0.4163\n",
      "Epoch 22/50, train set: loss=0.6016\n",
      "Epoch 22/50, test set: acc=86.80%, loss=0.3813\n",
      "Epoch 23/50, train set: loss=0.5926\n",
      "Epoch 23/50, test set: acc=86.91%, loss=0.3799\n",
      "Epoch 24/50, train set: loss=0.5808\n",
      "Epoch 24/50, test set: acc=86.57%, loss=0.3809\n",
      "Epoch 25/50, train set: loss=0.5705\n",
      "Epoch 25/50, test set: acc=86.21%, loss=0.4126\n",
      "Epoch 26/50, train set: loss=0.5633\n",
      "Epoch 26/50, test set: acc=86.78%, loss=0.3891\n",
      "Epoch 27/50, train set: loss=0.5522\n",
      "Epoch 27/50, test set: acc=87.54%, loss=0.3623\n",
      "Epoch 28/50, train set: loss=0.5441\n",
      "Epoch 28/50, test set: acc=87.33%, loss=0.3767\n",
      "Epoch 29/50, train set: loss=0.5351\n",
      "Epoch 29/50, test set: acc=88.09%, loss=0.3572\n",
      "Epoch 30/50, train set: loss=0.5285\n",
      "Epoch 30/50, test set: acc=87.95%, loss=0.3565\n",
      "Epoch 31/50, train set: loss=0.5228\n",
      "Epoch 31/50, test set: acc=88.48%, loss=0.3423\n",
      "Epoch 32/50, train set: loss=0.5089\n",
      "Epoch 32/50, test set: acc=88.08%, loss=0.3438\n",
      "Epoch 33/50, train set: loss=0.5015\n",
      "Epoch 33/50, test set: acc=88.49%, loss=0.3375\n",
      "Epoch 34/50, train set: loss=0.4959\n",
      "Epoch 34/50, test set: acc=87.96%, loss=0.3535\n",
      "Epoch 35/50, train set: loss=0.4929\n",
      "Epoch 35/50, test set: acc=87.74%, loss=0.3649\n",
      "Epoch 36/50, train set: loss=0.4814\n",
      "Epoch 36/50, test set: acc=88.74%, loss=0.3290\n",
      "Epoch 37/50, train set: loss=0.4803\n",
      "Epoch 37/50, test set: acc=88.61%, loss=0.3254\n",
      "Epoch 38/50, train set: loss=0.4724\n",
      "Epoch 38/50, test set: acc=88.69%, loss=0.3341\n",
      "Epoch 39/50, train set: loss=0.4645\n",
      "Epoch 39/50, test set: acc=88.97%, loss=0.3267\n",
      "Epoch 40/50, train set: loss=0.4599\n",
      "Epoch 40/50, test set: acc=88.85%, loss=0.3270\n",
      "Epoch 41/50, train set: loss=0.4544\n",
      "Epoch 41/50, test set: acc=88.94%, loss=0.3129\n",
      "Epoch 42/50, train set: loss=0.4509\n",
      "Epoch 42/50, test set: acc=88.83%, loss=0.3279\n",
      "Epoch 43/50, train set: loss=0.4410\n",
      "Epoch 43/50, test set: acc=88.75%, loss=0.3328\n",
      "Epoch 44/50, train set: loss=0.4419\n",
      "Epoch 44/50, test set: acc=89.47%, loss=0.3097\n",
      "Epoch 45/50, train set: loss=0.4305\n",
      "Epoch 45/50, test set: acc=89.48%, loss=0.3104\n",
      "Epoch 46/50, train set: loss=0.4286\n",
      "Epoch 46/50, test set: acc=89.13%, loss=0.3161\n",
      "Epoch 47/50, train set: loss=0.4273\n",
      "Epoch 47/50, test set: acc=89.34%, loss=0.3174\n",
      "Epoch 48/50, train set: loss=0.4229\n",
      "Epoch 48/50, test set: acc=89.40%, loss=0.3147\n",
      "Epoch 49/50, train set: loss=0.4197\n",
      "Epoch 49/50, test set: acc=89.38%, loss=0.3134\n",
      "Epoch 50/50, train set: loss=0.4133\n",
      "Epoch 50/50, test set: acc=90.20%, loss=0.3039\n"
     ]
    },
    {
     "data": {
      "text/plain": "<Figure size 640x480 with 1 Axes>",
      "image/png": "[encoded data removed]"
     },
     "metadata": {},
     "output_type": "display_data"
    },
    {
     "data": {
      "text/plain": "<Figure size 640x480 with 1 Axes>",
      "image/png": "[encoded data removed]"
     },
     "metadata": {},
     "output_type": "display_data"
    }
   ],
   "source": [
    "train(model, epochs, criterion, train_loader, test_loader, device)"
   ],
   "metadata": {
    "collapsed": false,
    "pycharm": {
     "is_executing": true
    },
    "ExecuteTime": {
     "end_time": "2023-05-10T19:51:00.709031500Z",
     "start_time": "2023-05-10T12:51:12.495599900Z"
    }
   }
  },
  {
   "cell_type": "markdown",
   "source": [
    "layer 1, 2, 3, 128x3x3 + data augmentation\n",
    "epochs = 100\n",
    "lr = 0.00205\n",
    "momentum = 0.86\n",
    "weight_decay = 0.0011\n",
    "80% accuracy"
   ],
   "metadata": {
    "collapsed": false
   }
  },
  {
   "cell_type": "markdown",
   "source": [],
   "metadata": {
    "collapsed": false
   }
  }
 ],
 "metadata": {
  "kernelspec": {
   "display_name": "Python 3",
   "language": "python",
   "name": "python3"
  },
  "language_info": {
   "codemirror_mode": {
    "name": "ipython",
    "version": 2
   },
   "file_extension": ".py",
   "mimetype": "text/x-python",
   "name": "python",
   "nbconvert_exporter": "python",
   "pygments_lexer": "ipython2",
   "version": "2.7.6"
  }
 },
 "nbformat": 4,
 "nbformat_minor": 0
}
