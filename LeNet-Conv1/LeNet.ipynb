{
 "cells": [
  {
   "cell_type": "markdown",
   "source": [
    "Setting up the imports"
   ],
   "metadata": {
    "collapsed": false
   }
  },
  {
   "cell_type": "code",
   "execution_count": 229,
   "metadata": {
    "collapsed": true
   },
   "outputs": [],
   "source": [
    "import torch\n",
    "from torch import nn\n",
    "import torchvision\n",
    "from torch.utils.data import DataLoader\n",
    "\n",
    "import matplotlib.pyplot as plt\n",
    "\n",
    "from typing import Tuple, List"
   ]
  },
  {
   "cell_type": "markdown",
   "source": [
    "Setting up the device"
   ],
   "metadata": {
    "collapsed": false
   }
  },
  {
   "cell_type": "code",
   "execution_count": 230,
   "outputs": [],
   "source": [
    "device: str = 'cuda' if torch.cuda.is_available() else 'cpu'"
   ],
   "metadata": {
    "collapsed": false
   }
  },
  {
   "cell_type": "markdown",
   "source": [
    "Setting up the Cifar10 Dataset"
   ],
   "metadata": {
    "collapsed": false
   }
  },
  {
   "cell_type": "code",
   "execution_count": 231,
   "outputs": [
    {
     "name": "stdout",
     "output_type": "stream",
     "text": [
      "Files already downloaded and verified\n",
      "Files already downloaded and verified\n"
     ]
    }
   ],
   "source": [
    "transforms = torchvision.transforms\n",
    "train_augmentations = transforms.Compose([transforms.RandomGrayscale(0.2),\n",
    "                                          transforms.RandomHorizontalFlip(0.5),\n",
    "                                          transforms.RandomVerticalFlip(0.2),\n",
    "                                          transforms.RandomRotation(30),\n",
    "                                          transforms.RandomAdjustSharpness(0.4),\n",
    "                                          transforms.ToTensor(),\n",
    "                                          transforms.Normalize((0.4914, 0.4822, 0.4465), (0.2023, 0.1994, 0.2010))\n",
    "                                         ])\n",
    "\n",
    "test_augmentations = transforms.Compose([transforms.ToTensor(),\n",
    "                                         transforms.Normalize((0.4914, 0.4822, 0.4465), (0.2023, 0.1994, 0.2010))]\n",
    "                                       )\n",
    "train_dataset = torchvision.datasets.CIFAR10(\n",
    "    root='./data', train=True, download=True, transform=train_augmentations\n",
    ")\n",
    "\n",
    "test_dataset = torchvision.datasets.CIFAR10(\n",
    "    root='./data', train=False, download=True, transform=test_augmentations\n",
    ")"
   ],
   "metadata": {
    "collapsed": false
   }
  },
  {
   "cell_type": "markdown",
   "source": [
    "Setting up the DataLoader"
   ],
   "metadata": {
    "collapsed": false
   }
  },
  {
   "cell_type": "code",
   "execution_count": 232,
   "outputs": [],
   "source": [
    "batch_size = 8\n",
    "\n",
    "train_loader = torch.utils.data.DataLoader(\n",
    "    train_dataset, batch_size=batch_size, shuffle=True, num_workers=2\n",
    ")\n",
    "\n",
    "test_loader = torch.utils.data.DataLoader(\n",
    "    test_dataset, batch_size=batch_size, shuffle=False, num_workers=2\n",
    ")"
   ],
   "metadata": {
    "collapsed": false
   }
  },
  {
   "cell_type": "markdown",
   "source": [
    "Just a preview"
   ],
   "metadata": {
    "collapsed": false
   }
  },
  {
   "cell_type": "code",
   "execution_count": 233,
   "outputs": [
    {
     "name": "stdout",
     "output_type": "stream",
     "text": [
      "torch.Size([8, 3, 32, 32])\n",
      "torch.Size([8])\n"
     ]
    }
   ],
   "source": [
    "for x, y in train_loader:\n",
    "    print(x.shape)\n",
    "    print(y.shape)\n",
    "    break"
   ],
   "metadata": {
    "collapsed": false
   }
  },
  {
   "cell_type": "markdown",
   "source": [
    "The Convolutional Neural Network class"
   ],
   "metadata": {
    "collapsed": false
   }
  },
  {
   "cell_type": "code",
   "execution_count": 234,
   "outputs": [],
   "source": [
    "class ConvNet(nn.Module):\n",
    "    def __init__(self):\n",
    "        super(ConvNet, self).__init__()\n",
    "        self.layer1 = nn.Sequential(\n",
    "            nn.Conv2d(in_channels=3, out_channels=32, kernel_size=3, stride=1, padding=1),\n",
    "            nn.ReLU(),\n",
    "            nn.Conv2d(in_channels=32, out_channels=32, kernel_size=3, stride=1, padding=1),\n",
    "            nn.ReLU(),\n",
    "            nn.MaxPool2d(kernel_size=2, stride=2),\n",
    "            nn.Dropout2d(0.2)\n",
    "        )\n",
    "        self.layer2 = nn.Sequential(\n",
    "            nn.Conv2d(in_channels=32, out_channels=64, kernel_size=3, stride=1, padding=1),\n",
    "            nn.ReLU(),\n",
    "            nn.Conv2d(in_channels=64, out_channels=64, kernel_size=3, stride=1, padding=1),\n",
    "            nn.ReLU(),\n",
    "            nn.MaxPool2d(kernel_size=2, stride=2),\n",
    "            nn.Dropout2d(0.18)\n",
    "        )\n",
    "        self.layer3 = nn.Sequential(\n",
    "            nn.Conv2d(in_channels=64, out_channels=128, kernel_size=3, stride=1, padding=1),\n",
    "            nn.ReLU(),\n",
    "            nn.Conv2d(in_channels=128, out_channels=128, kernel_size=3, stride=1, padding=1),\n",
    "            nn.ReLU(),\n",
    "            nn.MaxPool2d(kernel_size=2, stride=2),\n",
    "            nn.Dropout2d(0.205)\n",
    "        )\n",
    "        #output_shape = [(input_shape - kernel_size + 2*padding) / stride] + 1\n",
    "        self.layer4 = nn.Sequential(\n",
    "            nn.Conv2d(in_channels=128, out_channels=256, kernel_size=1),\n",
    "            nn.ReLU(),\n",
    "            nn.Conv2d(in_channels=256, out_channels=256, kernel_size=1),\n",
    "            nn.ReLU(),\n",
    "            nn.MaxPool2d(kernel_size=2, stride=2)\n",
    "        )\n",
    "        self.fully_connected = nn.Sequential(\n",
    "            nn.Linear(2*2*256, 256),\n",
    "            nn.Tanh(),\n",
    "            nn.Linear(256, 64),\n",
    "            nn.Tanh(),\n",
    "            nn.Linear(64, 10)\n",
    "        )\n",
    "    def forward(self, x):\n",
    "        out = self.layer1(x)\n",
    "        out = self.layer2(out)\n",
    "        out = self.layer3(out)\n",
    "        out = self.layer4(out)\n",
    "        out = out.view(-1, 2*2*256)\n",
    "        out = self.fully_connected(out)\n",
    "        return out"
   ],
   "metadata": {
    "collapsed": false
   }
  },
  {
   "cell_type": "markdown",
   "source": [
    "Define testing loop"
   ],
   "metadata": {
    "collapsed": false
   }
  },
  {
   "cell_type": "code",
   "execution_count": 235,
   "outputs": [],
   "source": [
    "@torch.no_grad()\n",
    "def test(\n",
    "        model: nn.Module,\n",
    "        criterion: nn.CrossEntropyLoss,\n",
    "        loader: torch.utils.data.DataLoader,\n",
    "        device: torch.device\n",
    ") -> Tuple[float, float]:\n",
    "    model.eval()\n",
    "    accuracy, test_loss = 0, 0\n",
    "    for x, y in loader:\n",
    "        x, y = x.to(device), y.to(device)\n",
    "        y_hat = model(x)\n",
    "        test_loss += criterion(y_hat, y).item() * x.shape[0]\n",
    "        _, predicted = torch.max(y_hat, axis=1)\n",
    "        accuracy += (predicted == y).sum().item()\n",
    "    accuracy /= len(loader.dataset)\n",
    "    test_loss /= len(loader.dataset)\n",
    "    return accuracy, test_loss"
   ],
   "metadata": {
    "collapsed": false
   }
  },
  {
   "cell_type": "markdown",
   "source": [
    "Define training loop"
   ],
   "metadata": {
    "collapsed": false
   }
  },
  {
   "cell_type": "code",
   "execution_count": 236,
   "outputs": [],
   "source": [
    "def train(model: nn.Module,\n",
    "          epochs: int,\n",
    "          criterion: nn.CrossEntropyLoss,\n",
    "          train_loader: torch.utils.data.DataLoader,\n",
    "          test_loader: torch.utils.data.DataLoader,\n",
    "          device: torch.device) -> None:\n",
    "    train_losses = []\n",
    "    test_accuracies = []\n",
    "    test_losses = []\n",
    "    test_accuracy_untrained, test_loss_untrained = test(model, criterion, test_loader, device)\n",
    "    print(f'On untrained model, test set: acc={test_accuracy_untrained*100:.2f}, loss={test_loss_untrained:.4f}')\n",
    "\n",
    "    for epoch in range(1, epochs + 1):\n",
    "        model.train()\n",
    "        running_train_loss = 0\n",
    "        for x, y in train_loader:\n",
    "            x, y = x.to(device), y.to(device)\n",
    "            y_hat = model(x)\n",
    "            loss = criterion(y_hat, y)\n",
    "            running_train_loss += loss.item() * x.shape[0]\n",
    "\n",
    "            model.zero_grad()\n",
    "            loss.backward()\n",
    "            optimizer.step()\n",
    "        train_losses.append(running_train_loss / len(train_loader.dataset))\n",
    "        test_accuracy, test_loss = test(model, criterion, test_loader, device)\n",
    "        print(f'Epoch {epoch}/{epochs}, train set: loss={train_losses[-1]:.4f}')\n",
    "        print(f'Epoch {epoch}/{epochs}, test set: acc={test_accuracy*100:.2f}%, loss={test_loss:.4f}')\n",
    "        test_losses.append(test_loss)\n",
    "        test_accuracies.append(test_accuracy)\n",
    "    x_epochs = list(range(1, epochs+1))\n",
    "    plt.title('Loss curves')\n",
    "    plt.plot(x_epochs, train_losses, 'red', label='Train loss')\n",
    "    plt.plot(x_epochs, test_losses, 'green', label='Test loss')\n",
    "    plt.legend(loc='best')\n",
    "    plt.show()\n",
    "\n",
    "    plt.title('Test accuracy')\n",
    "    plt.plot(x_epochs, test_accuracies)\n",
    "    plt.show()"
   ],
   "metadata": {
    "collapsed": false
   }
  },
  {
   "cell_type": "markdown",
   "source": [
    "Define the model instance"
   ],
   "metadata": {
    "collapsed": false
   }
  },
  {
   "cell_type": "code",
   "execution_count": 237,
   "outputs": [
    {
     "data": {
      "text/plain": "ConvNet(\n  (layer1): Sequential(\n    (0): Conv2d(3, 32, kernel_size=(3, 3), stride=(1, 1), padding=(1, 1))\n    (1): ReLU()\n    (2): Conv2d(32, 32, kernel_size=(3, 3), stride=(1, 1), padding=(1, 1))\n    (3): ReLU()\n    (4): MaxPool2d(kernel_size=2, stride=2, padding=0, dilation=1, ceil_mode=False)\n    (5): Dropout2d(p=0.2, inplace=False)\n  )\n  (layer2): Sequential(\n    (0): Conv2d(32, 64, kernel_size=(3, 3), stride=(1, 1), padding=(1, 1))\n    (1): ReLU()\n    (2): Conv2d(64, 64, kernel_size=(3, 3), stride=(1, 1), padding=(1, 1))\n    (3): ReLU()\n    (4): MaxPool2d(kernel_size=2, stride=2, padding=0, dilation=1, ceil_mode=False)\n    (5): Dropout2d(p=0.18, inplace=False)\n  )\n  (layer3): Sequential(\n    (0): Conv2d(64, 128, kernel_size=(3, 3), stride=(1, 1), padding=(1, 1))\n    (1): ReLU()\n    (2): Conv2d(128, 128, kernel_size=(3, 3), stride=(1, 1), padding=(1, 1))\n    (3): ReLU()\n    (4): MaxPool2d(kernel_size=2, stride=2, padding=0, dilation=1, ceil_mode=False)\n    (5): Dropout2d(p=0.205, inplace=False)\n  )\n  (layer4): Sequential(\n    (0): Conv2d(128, 256, kernel_size=(1, 1), stride=(1, 1))\n    (1): ReLU()\n    (2): Conv2d(256, 256, kernel_size=(1, 1), stride=(1, 1))\n    (3): ReLU()\n    (4): MaxPool2d(kernel_size=2, stride=2, padding=0, dilation=1, ceil_mode=False)\n  )\n  (fully_connected): Sequential(\n    (0): Linear(in_features=1024, out_features=256, bias=True)\n    (1): Tanh()\n    (2): Linear(in_features=256, out_features=64, bias=True)\n    (3): Tanh()\n    (4): Linear(in_features=64, out_features=10, bias=True)\n  )\n)"
     },
     "execution_count": 237,
     "metadata": {},
     "output_type": "execute_result"
    }
   ],
   "source": [
    "model = ConvNet()\n",
    "model.to(device)"
   ],
   "metadata": {
    "collapsed": false
   }
  },
  {
   "cell_type": "markdown",
   "source": [
    "Request summary"
   ],
   "metadata": {
    "collapsed": false
   }
  },
  {
   "cell_type": "code",
   "execution_count": 238,
   "outputs": [
    {
     "name": "stdout",
     "output_type": "stream",
     "text": [
      "=================================================================\n",
      "Layer (type:depth-idx)                   Param #\n",
      "=================================================================\n",
      "├─Sequential: 1-1                        --\n",
      "|    └─Conv2d: 2-1                       896\n",
      "|    └─ReLU: 2-2                         --\n",
      "|    └─Conv2d: 2-3                       9,248\n",
      "|    └─ReLU: 2-4                         --\n",
      "|    └─MaxPool2d: 2-5                    --\n",
      "|    └─Dropout2d: 2-6                    --\n",
      "├─Sequential: 1-2                        --\n",
      "|    └─Conv2d: 2-7                       18,496\n",
      "|    └─ReLU: 2-8                         --\n",
      "|    └─Conv2d: 2-9                       36,928\n",
      "|    └─ReLU: 2-10                        --\n",
      "|    └─MaxPool2d: 2-11                   --\n",
      "|    └─Dropout2d: 2-12                   --\n",
      "├─Sequential: 1-3                        --\n",
      "|    └─Conv2d: 2-13                      73,856\n",
      "|    └─ReLU: 2-14                        --\n",
      "|    └─Conv2d: 2-15                      147,584\n",
      "|    └─ReLU: 2-16                        --\n",
      "|    └─MaxPool2d: 2-17                   --\n",
      "|    └─Dropout2d: 2-18                   --\n",
      "├─Sequential: 1-4                        --\n",
      "|    └─Conv2d: 2-19                      33,024\n",
      "|    └─ReLU: 2-20                        --\n",
      "|    └─Conv2d: 2-21                      65,792\n",
      "|    └─ReLU: 2-22                        --\n",
      "|    └─MaxPool2d: 2-23                   --\n",
      "├─Sequential: 1-5                        --\n",
      "|    └─Linear: 2-24                      262,400\n",
      "|    └─Tanh: 2-25                        --\n",
      "|    └─Linear: 2-26                      16,448\n",
      "|    └─Tanh: 2-27                        --\n",
      "|    └─Linear: 2-28                      650\n",
      "=================================================================\n",
      "Total params: 665,322\n",
      "Trainable params: 665,322\n",
      "Non-trainable params: 0\n",
      "=================================================================\n"
     ]
    },
    {
     "data": {
      "text/plain": "=================================================================\nLayer (type:depth-idx)                   Param #\n=================================================================\n├─Sequential: 1-1                        --\n|    └─Conv2d: 2-1                       896\n|    └─ReLU: 2-2                         --\n|    └─Conv2d: 2-3                       9,248\n|    └─ReLU: 2-4                         --\n|    └─MaxPool2d: 2-5                    --\n|    └─Dropout2d: 2-6                    --\n├─Sequential: 1-2                        --\n|    └─Conv2d: 2-7                       18,496\n|    └─ReLU: 2-8                         --\n|    └─Conv2d: 2-9                       36,928\n|    └─ReLU: 2-10                        --\n|    └─MaxPool2d: 2-11                   --\n|    └─Dropout2d: 2-12                   --\n├─Sequential: 1-3                        --\n|    └─Conv2d: 2-13                      73,856\n|    └─ReLU: 2-14                        --\n|    └─Conv2d: 2-15                      147,584\n|    └─ReLU: 2-16                        --\n|    └─MaxPool2d: 2-17                   --\n|    └─Dropout2d: 2-18                   --\n├─Sequential: 1-4                        --\n|    └─Conv2d: 2-19                      33,024\n|    └─ReLU: 2-20                        --\n|    └─Conv2d: 2-21                      65,792\n|    └─ReLU: 2-22                        --\n|    └─MaxPool2d: 2-23                   --\n├─Sequential: 1-5                        --\n|    └─Linear: 2-24                      262,400\n|    └─Tanh: 2-25                        --\n|    └─Linear: 2-26                      16,448\n|    └─Tanh: 2-27                        --\n|    └─Linear: 2-28                      650\n=================================================================\nTotal params: 665,322\nTrainable params: 665,322\nNon-trainable params: 0\n================================================================="
     },
     "execution_count": 238,
     "metadata": {},
     "output_type": "execute_result"
    }
   ],
   "source": [
    "from torchsummary import summary\n",
    "summary(model)"
   ],
   "metadata": {
    "collapsed": false
   }
  },
  {
   "cell_type": "code",
   "execution_count": 239,
   "outputs": [],
   "source": [
    "epochs = 100\n",
    "lr = 0.00215\n",
    "momentum = 0.88\n",
    "weight_decay = 0.0001\n",
    "\n",
    "criterion = nn.CrossEntropyLoss()\n",
    "optimizer = torch.optim.SGD(model.parameters(), lr=lr, momentum=momentum, weight_decay=weight_decay)"
   ],
   "metadata": {
    "collapsed": false
   }
  },
  {
   "cell_type": "code",
   "execution_count": null,
   "outputs": [
    {
     "name": "stdout",
     "output_type": "stream",
     "text": [
      "On untrained model, test set: acc=10.00, loss=2.3066\n",
      "Epoch 1/100, train set: loss=2.3035\n",
      "Epoch 1/100, test set: acc=13.04%, loss=2.3038\n",
      "Epoch 2/100, train set: loss=2.2574\n",
      "Epoch 2/100, test set: acc=22.47%, loss=1.9940\n",
      "Epoch 3/100, train set: loss=2.0127\n",
      "Epoch 3/100, test set: acc=28.88%, loss=1.8241\n",
      "Epoch 4/100, train set: loss=1.8969\n",
      "Epoch 4/100, test set: acc=36.65%, loss=1.7156\n"
     ]
    }
   ],
   "source": [
    "train(model, epochs, criterion, train_loader, test_loader, device)"
   ],
   "metadata": {
    "collapsed": false,
    "pycharm": {
     "is_executing": true
    }
   }
  },
  {
   "cell_type": "markdown",
   "source": [
    "layer 1, 2, 3, 128x3x3 + data augmentation\n",
    "epochs = 100\n",
    "lr = 0.00205\n",
    "momentum = 0.86\n",
    "weight_decay = 0.0011\n",
    "80% accuracy"
   ],
   "metadata": {
    "collapsed": false
   }
  },
  {
   "cell_type": "markdown",
   "source": [],
   "metadata": {
    "collapsed": false
   }
  }
 ],
 "metadata": {
  "kernelspec": {
   "display_name": "Python 3",
   "language": "python",
   "name": "python3"
  },
  "language_info": {
   "codemirror_mode": {
    "name": "ipython",
    "version": 2
   },
   "file_extension": ".py",
   "mimetype": "text/x-python",
   "name": "python",
   "nbconvert_exporter": "python",
   "pygments_lexer": "ipython2",
   "version": "2.7.6"
  }
 },
 "nbformat": 4,
 "nbformat_minor": 0
}
