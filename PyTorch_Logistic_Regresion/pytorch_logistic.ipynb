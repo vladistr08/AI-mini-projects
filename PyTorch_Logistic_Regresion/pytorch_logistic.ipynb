{
 "cells": [
  {
   "cell_type": "markdown",
   "id": "92a96f29",
   "metadata": {},
   "source": [
    "# Tema 3: model de regresie logistica multinomiala antrenat cu Pytorch"
   ]
  },
  {
   "cell_type": "markdown",
   "id": "c4977baf",
   "metadata": {},
   "source": [
    "Implementati un model de regresie logistica multinomiala pentru clasificarea celor 10 tipuri de cifre din setul MNIST.\n",
    "\n",
    "Puteti reutiliza si adapta cod din exemplul Pytorch pentru regresia logistica binara. \n",
    "Modificarile pe care trebuie sa le aveti in vedere sunt:\n",
    "1. in definirea lui Dataset nu se mai face filtrare dupa clasele pozitive si negative; se lasa toate datele\n",
    "1. In definirea clasei modelului, stratul `self.fully_connected` trebuie sa fie cu numarul de iesiri egal cu numarul de clase\n",
    "1. La predictie, pentru fiecare vector de intrare (cifra reprezentata ca vector de 784 de valori) modelul produce un vector de 10 probabilitati. Clasa se decide ca indicele pe care probabilitatea este maxima. Aceasta afecteaza implementarea functiei de testare\n",
    "1. Se reccomanda ca in functia `forward` a modelului sa nu se mai aplice si functia softmax, ci sa se returneze direct logitii (valoarea producsa de aplicarea stratului liniar, adica inmultirea dintre matricea de ponderi si intrare)\n",
    "1. Functia de eroare `loss_fn` este `torch.nn.CrossEntropyLoss`. Aceasta preia logitii produsi de model (punctul de mai sus)\n",
    "\n",
    "Creati o matrice de confuzie pentru clase; puteti folosi [scikit learn](https://scikit-learn.org/stable/modules/generated/sklearn.metrics.confusion_matrix.html)\n",
    "\n",
    "1. Optional:\n",
    "    1. Folositi alt optimizator decat SGD, de ex. Adam. Comparati cu rezultatele obtinute pe SGD.\n",
    "    1. Prezentati in acelasi grafic loss-ul pe setul antrenare si pe testare; intr-un alt grafic acuratetea pe setul de antrenare si pe cel de testare."
   ]
  },
  {
   "cell_type": "markdown",
   "id": "e6624dde",
   "metadata": {},
   "source": [
    "Predarea acestei aplicatii se pana in 5 aprilie ora 23, in cadrul temei 3 de pe platforma. Modul de predare si de rpezentare aeste la fel ca pentru temele precedente."
   ]
  },
  {
   "cell_type": "markdown",
   "id": "2bcab6c7",
   "metadata": {},
   "source": [
    "Setting up the torch imports"
   ]
  },
  {
   "cell_type": "code",
   "execution_count": 17,
   "id": "00995a38",
   "metadata": {},
   "outputs": [
    {
     "name": "stdout",
     "output_type": "stream",
     "text": [
      "Using PyTorch version: 1.12.1  Device: cpu\n"
     ]
    }
   ],
   "source": [
    "import torch\n",
    "import torch.nn as nn\n",
    "import torch.nn.functional as F\n",
    "from torchvision import datasets, transforms\n",
    "from torchsummary import summary\n",
    "from torch.utils.data import Dataset\n",
    "\n",
    "if torch.cuda.is_available():\n",
    "    device = torch.device('cuda')\n",
    "else:\n",
    "    device = torch.device('cpu')\n",
    "\n",
    "print('Using PyTorch version:', torch.__version__, ' Device:', device)"
   ]
  },
  {
   "cell_type": "markdown",
   "id": "00e8282e",
   "metadata": {},
   "source": [
    "Setting up additional imports"
   ]
  },
  {
   "cell_type": "code",
   "execution_count": 18,
   "id": "8c0ea612",
   "metadata": {},
   "outputs": [],
   "source": [
    "import numpy as np\n",
    "import matplotlib.pyplot as plt\n",
    "import pandas as pd\n",
    "import os\n",
    "from typing import Tuple"
   ]
  },
  {
   "cell_type": "markdown",
   "id": "6fe5caf2",
   "metadata": {},
   "source": [
    "Define Dataset class"
   ]
  },
  {
   "cell_type": "code",
   "execution_count": 19,
   "id": "a917bcba",
   "metadata": {},
   "outputs": [],
   "source": [
    "class MNISTDataset(Dataset):\n",
    "    def __init__(self, path_csv: str):\n",
    "        \"\"\"\n",
    "        Init the dataset from a csv (path) with the specfied no. of classes\n",
    "        :param path_csv: path to the csv file\n",
    "        :param classes: no. of classes\n",
    "        \"\"\"\n",
    "        super(MNISTDataset, self).__init__()\n",
    "        assert os.path.exists(path_csv) and os.path.isfile(path_csv), f'Calea {path_csv} nu indica spre un fisier'\n",
    "        self.path_csv = path_csv\n",
    "\n",
    "        _all_digits = pd.read_csv(path_csv, header=None).values\n",
    "\n",
    "        _y = _all_digits[:, 0]\n",
    "        _x = _all_digits[:, 1:]\n",
    "        _x = _x / 255\n",
    "\n",
    "        self.x = torch.Tensor(_x)\n",
    "        self.y = torch.Tensor(_y).long()\n",
    "\n",
    "    def __len__(self):\n",
    "        \"\"\"\n",
    "        Returns the length of the current dataset\n",
    "        :return: the length\n",
    "        \"\"\"\n",
    "        return len(self.y)\n",
    "\n",
    "    def __getitem__(self, index: int) -> Tuple[torch.Tensor, torch.Tensor]:\n",
    "        \"\"\"\n",
    "        Returns (input, label) for the specified :param index\n",
    "        :param index: The position from where the vector and its label is returned\n",
    "        :return: pereche: input as a vector (784) and the classes (10) [0,1..9]\n",
    "        \"\"\"\n",
    "        return self.x[index, :], self.y[index]"
   ]
  },
  {
   "cell_type": "markdown",
   "id": "edb6c81a",
   "metadata": {},
   "source": [
    "Define train and test dataset objects"
   ]
  },
  {
   "cell_type": "code",
   "execution_count": 20,
   "id": "370db031",
   "metadata": {},
   "outputs": [
    {
     "name": "stdout",
     "output_type": "stream",
     "text": [
      "60000\n",
      "10000\n"
     ]
    }
   ],
   "source": [
    "train_ds = MNISTDataset('./data/mnist_train.csv', classes=10)\n",
    "test_ds = MNISTDataset('./data/mnist_test.csv', classes=10)\n",
    "\n",
    "print(len(train_ds))\n",
    "print(len(test_ds))"
   ]
  },
  {
   "cell_type": "markdown",
   "id": "ddd13d3d",
   "metadata": {},
   "source": [
    "Pipeline the data thru a DataLoader"
   ]
  },
  {
   "cell_type": "code",
   "execution_count": 21,
   "id": "48446a59",
   "metadata": {},
   "outputs": [
    {
     "name": "stdout",
     "output_type": "stream",
     "text": [
      "torch.Size([32, 784]) torch.Size([32])\n"
     ]
    }
   ],
   "source": [
    "from torch.utils.data import DataLoader\n",
    "batch_size = 32\n",
    "train_loader = DataLoader(train_ds, batch_size=batch_size, shuffle=True)\n",
    "test_loader = DataLoader(test_ds, batch_size=batch_size)\n",
    "\n",
    "for data, label in train_loader:\n",
    "    print(data.shape, label.shape)\n",
    "    break"
   ]
  },
  {
   "cell_type": "markdown",
   "id": "01992e93",
   "metadata": {},
   "source": [
    "Definirea modelului"
   ]
  },
  {
   "cell_type": "code",
   "execution_count": 22,
   "id": "046ab3fc",
   "metadata": {},
   "outputs": [],
   "source": [
    "class MultinomialLogisticRegression(nn.Module):\n",
    "    def __init__(self, input_size: int = 784, classes: int = 10):\n",
    "        \"\"\"\n",
    "        Constructor for the model, calls parent constructor as well (nn.Module), initialize layers for the neural net\n",
    "        :param input_size: input size for the model: int\n",
    "        :param classes: expected output for the model: int\n",
    "        \"\"\"\n",
    "        super(MultinomialLogisticRegression, self).__init__()\n",
    "        self.input_size = input_size\n",
    "        self.fully_connected = nn.Linear(input_size, classes)\n",
    "    def forward(self, x):\n",
    "        \"\"\"\n",
    "        The model makes a prediction then returns it\n",
    "        :param x: input: Tensor\n",
    "        :return: y: output: Tensor\n",
    "        \"\"\"\n",
    "        return self.fully_connected(x)"
   ]
  },
  {
   "cell_type": "markdown",
   "id": "8ccc0c03",
   "metadata": {},
   "source": [
    "Instantiem modelul"
   ]
  },
  {
   "cell_type": "code",
   "execution_count": 23,
   "id": "ac7ca79d",
   "metadata": {},
   "outputs": [
    {
     "name": "stdout",
     "output_type": "stream",
     "text": [
      "MultinomialLogisticRegression(\n",
      "  (fully_connected): Linear(in_features=784, out_features=10, bias=True)\n",
      ")\n"
     ]
    }
   ],
   "source": [
    "model = MultinomialLogisticRegression()\n",
    "print(model)"
   ]
  },
  {
   "cell_type": "code",
   "execution_count": 24,
   "id": "c13d37ca",
   "metadata": {},
   "outputs": [
    {
     "name": "stdout",
     "output_type": "stream",
     "text": [
      "=================================================================\n",
      "Layer (type:depth-idx)                   Param #\n",
      "=================================================================\n",
      "├─Linear: 1-1                            7,850\n",
      "=================================================================\n",
      "Total params: 7,850\n",
      "Trainable params: 7,850\n",
      "Non-trainable params: 0\n",
      "=================================================================\n"
     ]
    },
    {
     "data": {
      "text/plain": "=================================================================\nLayer (type:depth-idx)                   Param #\n=================================================================\n├─Linear: 1-1                            7,850\n=================================================================\nTotal params: 7,850\nTrainable params: 7,850\nNon-trainable params: 0\n================================================================="
     },
     "execution_count": 24,
     "metadata": {},
     "output_type": "execute_result"
    }
   ],
   "source": [
    "summary(model)"
   ]
  },
  {
   "cell_type": "code",
   "execution_count": 25,
   "id": "09ce8fc2",
   "metadata": {},
   "outputs": [
    {
     "name": "stdout",
     "output_type": "stream",
     "text": [
      "device=cpu\n"
     ]
    },
    {
     "data": {
      "text/plain": "MultinomialLogisticRegression(\n  (fully_connected): Linear(in_features=784, out_features=10, bias=True)\n)"
     },
     "execution_count": 25,
     "metadata": {},
     "output_type": "execute_result"
    }
   ],
   "source": [
    "print(f'device={device}')\n",
    "model.to(device)"
   ]
  },
  {
   "cell_type": "code",
   "execution_count": 26,
   "id": "13837bef",
   "metadata": {},
   "outputs": [],
   "source": [
    "@torch.no_grad()\n",
    "def test(model: nn.Module, loader: DataLoader, device: torch.device) -> float:\n",
    "    \"\"\"\n",
    "    Tests a model with data from a loader making computation on the specified device\n",
    "    :param model: Multinomial logistic regression model\n",
    "    :param loader: DataLoader for testing\n",
    "    :param device: Where the model runs (cpu, gpu, tpu etc)\n",
    "    :return: Accuracy%\n",
    "    \"\"\"\n",
    "    correctly_classified = 0\n",
    "    total_items = 0\n",
    "    model.eval()\n",
    "    for x, y in loader:\n",
    "        x, y = x.to(device), y.to(device)\n",
    "        y_hat = model(x)\n",
    "\n",
    "        actual_class = y\n",
    "        predicted_class = torch.argmax(y_hat, dim=1)\n",
    "\n",
    "        correctly_classified += torch.sum((predicted_class == actual_class) * 1)\n",
    "        total_items += len(x)\n",
    "    accuracy = correctly_classified / total_items\n",
    "    return accuracy.cpu().detach().item()"
   ]
  },
  {
   "cell_type": "code",
   "execution_count": 27,
   "id": "8ba25815",
   "metadata": {},
   "outputs": [
    {
     "name": "stdout",
     "output_type": "stream",
     "text": [
      "Accuracy for the not trained model: 11.460000276565552%\n"
     ]
    }
   ],
   "source": [
    "acc = test(model, test_loader, device)\n",
    "print(f'Accuracy for the not trained model: {acc * 100}%')"
   ]
  },
  {
   "cell_type": "code",
   "execution_count": 28,
   "id": "1938539f",
   "metadata": {},
   "outputs": [],
   "source": [
    "optimizer = torch.optim.SGD(model.parameters(), lr=0.005, weight_decay=0.001)\n",
    "loss_func = nn.CrossEntropyLoss()"
   ]
  },
  {
   "cell_type": "code",
   "execution_count": 29,
   "id": "4c51675b",
   "metadata": {},
   "outputs": [
    {
     "name": "stdout",
     "output_type": "stream",
     "text": [
      "Epoch: 1/100: loss = 0.9802733\n",
      "Epoch: 1/100: Accuracies for test set  = 86.5900%\n",
      "\n",
      "Epoch: 2/100: loss = 0.5556970\n",
      "Epoch: 2/100: Accuracies for test set  = 88.3600%\n",
      "\n",
      "Epoch: 3/100: loss = 0.4760137\n",
      "Epoch: 3/100: Accuracies for test set  = 89.0500%\n",
      "\n",
      "Epoch: 4/100: loss = 0.4375369\n",
      "Epoch: 4/100: Accuracies for test set  = 89.7000%\n",
      "\n",
      "Epoch: 5/100: loss = 0.4136816\n",
      "Epoch: 5/100: Accuracies for test set  = 89.9500%\n",
      "\n",
      "Epoch: 6/100: loss = 0.3971505\n",
      "Epoch: 6/100: Accuracies for test set  = 90.2500%\n",
      "\n",
      "Epoch: 7/100: loss = 0.3847851\n",
      "Epoch: 7/100: Accuracies for test set  = 90.4600%\n",
      "\n",
      "Epoch: 8/100: loss = 0.3751047\n",
      "Epoch: 8/100: Accuracies for test set  = 90.7000%\n",
      "\n",
      "Epoch: 9/100: loss = 0.3673029\n",
      "Epoch: 9/100: Accuracies for test set  = 90.8400%\n",
      "\n",
      "Epoch: 10/100: loss = 0.3607808\n",
      "Epoch: 10/100: Accuracies for test set  = 90.8800%\n",
      "\n",
      "Epoch: 11/100: loss = 0.3552647\n",
      "Epoch: 11/100: Accuracies for test set  = 90.9200%\n",
      "\n",
      "Epoch: 12/100: loss = 0.3504782\n",
      "Epoch: 12/100: Accuracies for test set  = 91.0500%\n",
      "\n",
      "Epoch: 13/100: loss = 0.3463035\n",
      "Epoch: 13/100: Accuracies for test set  = 91.1100%\n",
      "\n",
      "Epoch: 14/100: loss = 0.3426200\n",
      "Epoch: 14/100: Accuracies for test set  = 91.1900%\n",
      "\n",
      "Epoch: 15/100: loss = 0.3393878\n",
      "Epoch: 15/100: Accuracies for test set  = 91.3000%\n",
      "\n",
      "Epoch: 16/100: loss = 0.3365328\n",
      "Epoch: 16/100: Accuracies for test set  = 91.3900%\n",
      "\n",
      "Epoch: 17/100: loss = 0.3338566\n",
      "Epoch: 17/100: Accuracies for test set  = 91.4500%\n",
      "\n",
      "Epoch: 18/100: loss = 0.3314288\n",
      "Epoch: 18/100: Accuracies for test set  = 91.4200%\n",
      "\n",
      "Epoch: 19/100: loss = 0.3292635\n",
      "Epoch: 19/100: Accuracies for test set  = 91.4300%\n",
      "\n",
      "Epoch: 20/100: loss = 0.3272274\n",
      "Epoch: 20/100: Accuracies for test set  = 91.5200%\n",
      "\n",
      "Epoch: 21/100: loss = 0.3254271\n",
      "Epoch: 21/100: Accuracies for test set  = 91.5200%\n",
      "\n",
      "Epoch: 22/100: loss = 0.3236646\n",
      "Epoch: 22/100: Accuracies for test set  = 91.6100%\n",
      "\n",
      "Epoch: 23/100: loss = 0.3220759\n",
      "Epoch: 23/100: Accuracies for test set  = 91.5800%\n",
      "\n",
      "Epoch: 24/100: loss = 0.3205482\n",
      "Epoch: 24/100: Accuracies for test set  = 91.6000%\n",
      "\n",
      "Epoch: 25/100: loss = 0.3191940\n",
      "Epoch: 25/100: Accuracies for test set  = 91.7400%\n",
      "\n",
      "Epoch: 26/100: loss = 0.3179431\n",
      "Epoch: 26/100: Accuracies for test set  = 91.7000%\n",
      "\n",
      "Epoch: 27/100: loss = 0.3167215\n",
      "Epoch: 27/100: Accuracies for test set  = 91.7300%\n",
      "\n",
      "Epoch: 28/100: loss = 0.3155177\n",
      "Epoch: 28/100: Accuracies for test set  = 91.7800%\n",
      "\n",
      "Epoch: 29/100: loss = 0.3144879\n",
      "Epoch: 29/100: Accuracies for test set  = 91.7700%\n",
      "\n",
      "Epoch: 30/100: loss = 0.3135111\n",
      "Epoch: 30/100: Accuracies for test set  = 91.8000%\n",
      "\n",
      "Epoch: 31/100: loss = 0.3125322\n",
      "Epoch: 31/100: Accuracies for test set  = 91.7500%\n",
      "\n",
      "Epoch: 32/100: loss = 0.3116191\n",
      "Epoch: 32/100: Accuracies for test set  = 91.8200%\n",
      "\n",
      "Epoch: 33/100: loss = 0.3107288\n",
      "Epoch: 33/100: Accuracies for test set  = 91.7800%\n",
      "\n",
      "Epoch: 34/100: loss = 0.3099178\n",
      "Epoch: 34/100: Accuracies for test set  = 91.8100%\n",
      "\n",
      "Epoch: 35/100: loss = 0.3091822\n",
      "Epoch: 35/100: Accuracies for test set  = 91.8200%\n",
      "\n",
      "Epoch: 36/100: loss = 0.3084257\n",
      "Epoch: 36/100: Accuracies for test set  = 91.9100%\n",
      "\n",
      "Epoch: 37/100: loss = 0.3077157\n",
      "Epoch: 37/100: Accuracies for test set  = 91.9500%\n",
      "\n",
      "Epoch: 38/100: loss = 0.3070293\n",
      "Epoch: 38/100: Accuracies for test set  = 91.8800%\n",
      "\n",
      "Epoch: 39/100: loss = 0.3064594\n",
      "Epoch: 39/100: Accuracies for test set  = 91.9000%\n",
      "\n",
      "Epoch: 40/100: loss = 0.3058253\n",
      "Epoch: 40/100: Accuracies for test set  = 91.8600%\n",
      "\n",
      "Epoch: 41/100: loss = 0.3052692\n",
      "Epoch: 41/100: Accuracies for test set  = 91.8900%\n",
      "\n",
      "Epoch: 42/100: loss = 0.3046566\n",
      "Epoch: 42/100: Accuracies for test set  = 91.9000%\n",
      "\n",
      "Epoch: 43/100: loss = 0.3041252\n",
      "Epoch: 43/100: Accuracies for test set  = 91.8900%\n",
      "\n",
      "Epoch: 44/100: loss = 0.3036243\n",
      "Epoch: 44/100: Accuracies for test set  = 91.9200%\n",
      "\n",
      "Epoch: 45/100: loss = 0.3030916\n",
      "Epoch: 45/100: Accuracies for test set  = 91.9000%\n",
      "\n",
      "Epoch: 46/100: loss = 0.3026776\n",
      "Epoch: 46/100: Accuracies for test set  = 91.9000%\n",
      "\n",
      "Epoch: 47/100: loss = 0.3021450\n",
      "Epoch: 47/100: Accuracies for test set  = 91.9300%\n",
      "\n",
      "Epoch: 48/100: loss = 0.3017840\n",
      "Epoch: 48/100: Accuracies for test set  = 91.9100%\n",
      "\n",
      "Epoch: 49/100: loss = 0.3013387\n",
      "Epoch: 49/100: Accuracies for test set  = 91.9400%\n",
      "\n",
      "Epoch: 50/100: loss = 0.3008527\n",
      "Epoch: 50/100: Accuracies for test set  = 92.0000%\n",
      "\n",
      "Epoch: 51/100: loss = 0.3005206\n",
      "Epoch: 51/100: Accuracies for test set  = 92.0100%\n",
      "\n",
      "Epoch: 52/100: loss = 0.3001242\n",
      "Epoch: 52/100: Accuracies for test set  = 91.9600%\n",
      "\n",
      "Epoch: 53/100: loss = 0.2997544\n",
      "Epoch: 53/100: Accuracies for test set  = 92.0000%\n",
      "\n",
      "Epoch: 54/100: loss = 0.2993929\n",
      "Epoch: 54/100: Accuracies for test set  = 91.9300%\n",
      "\n",
      "Epoch: 55/100: loss = 0.2990913\n",
      "Epoch: 55/100: Accuracies for test set  = 91.9100%\n",
      "\n",
      "Epoch: 56/100: loss = 0.2987362\n",
      "Epoch: 56/100: Accuracies for test set  = 91.9900%\n",
      "\n",
      "Epoch: 57/100: loss = 0.2984115\n",
      "Epoch: 57/100: Accuracies for test set  = 91.9400%\n",
      "\n",
      "Epoch: 58/100: loss = 0.2980578\n",
      "Epoch: 58/100: Accuracies for test set  = 91.9200%\n",
      "\n",
      "Epoch: 59/100: loss = 0.2978132\n",
      "Epoch: 59/100: Accuracies for test set  = 92.0000%\n",
      "\n",
      "Epoch: 60/100: loss = 0.2974826\n",
      "Epoch: 60/100: Accuracies for test set  = 92.0000%\n",
      "\n",
      "Epoch: 61/100: loss = 0.2972156\n",
      "Epoch: 61/100: Accuracies for test set  = 91.9600%\n",
      "\n",
      "Epoch: 62/100: loss = 0.2969844\n",
      "Epoch: 62/100: Accuracies for test set  = 91.9800%\n",
      "\n",
      "Epoch: 63/100: loss = 0.2966689\n",
      "Epoch: 63/100: Accuracies for test set  = 92.0200%\n",
      "\n",
      "Epoch: 64/100: loss = 0.2964501\n",
      "Epoch: 64/100: Accuracies for test set  = 91.8500%\n",
      "\n",
      "Epoch: 65/100: loss = 0.2961888\n",
      "Epoch: 65/100: Accuracies for test set  = 92.0500%\n",
      "\n",
      "Epoch: 66/100: loss = 0.2959978\n",
      "Epoch: 66/100: Accuracies for test set  = 91.9800%\n",
      "\n",
      "Epoch: 67/100: loss = 0.2957057\n",
      "Epoch: 67/100: Accuracies for test set  = 92.1200%\n",
      "\n",
      "Epoch: 68/100: loss = 0.2954750\n",
      "Epoch: 68/100: Accuracies for test set  = 92.0000%\n",
      "\n",
      "Epoch: 69/100: loss = 0.2952786\n",
      "Epoch: 69/100: Accuracies for test set  = 92.0300%\n",
      "\n",
      "Epoch: 70/100: loss = 0.2950192\n",
      "Epoch: 70/100: Accuracies for test set  = 92.1200%\n",
      "\n",
      "Epoch: 71/100: loss = 0.2948683\n",
      "Epoch: 71/100: Accuracies for test set  = 92.0500%\n",
      "\n",
      "Epoch: 72/100: loss = 0.2946967\n",
      "Epoch: 72/100: Accuracies for test set  = 92.0600%\n",
      "\n",
      "Epoch: 73/100: loss = 0.2944147\n",
      "Epoch: 73/100: Accuracies for test set  = 92.0600%\n",
      "\n",
      "Epoch: 74/100: loss = 0.2942916\n",
      "Epoch: 74/100: Accuracies for test set  = 92.0400%\n",
      "\n",
      "Epoch: 75/100: loss = 0.2940581\n",
      "Epoch: 75/100: Accuracies for test set  = 92.0200%\n",
      "\n",
      "Epoch: 76/100: loss = 0.2939033\n",
      "Epoch: 76/100: Accuracies for test set  = 91.9700%\n",
      "\n",
      "Epoch: 77/100: loss = 0.2937041\n",
      "Epoch: 77/100: Accuracies for test set  = 92.0100%\n",
      "\n",
      "Epoch: 78/100: loss = 0.2935542\n",
      "Epoch: 78/100: Accuracies for test set  = 92.0700%\n",
      "\n",
      "Epoch: 79/100: loss = 0.2933713\n",
      "Epoch: 79/100: Accuracies for test set  = 92.0700%\n",
      "\n",
      "Epoch: 80/100: loss = 0.2931537\n",
      "Epoch: 80/100: Accuracies for test set  = 92.0100%\n",
      "\n",
      "Epoch: 81/100: loss = 0.2930762\n",
      "Epoch: 81/100: Accuracies for test set  = 92.0700%\n",
      "\n",
      "Epoch: 82/100: loss = 0.2928914\n",
      "Epoch: 82/100: Accuracies for test set  = 92.1100%\n",
      "\n",
      "Epoch: 83/100: loss = 0.2927381\n",
      "Epoch: 83/100: Accuracies for test set  = 92.0000%\n",
      "\n",
      "Epoch: 84/100: loss = 0.2926357\n",
      "Epoch: 84/100: Accuracies for test set  = 92.0900%\n",
      "\n",
      "Epoch: 85/100: loss = 0.2924200\n",
      "Epoch: 85/100: Accuracies for test set  = 92.1000%\n",
      "\n",
      "Epoch: 86/100: loss = 0.2922743\n",
      "Epoch: 86/100: Accuracies for test set  = 92.1200%\n",
      "\n",
      "Epoch: 87/100: loss = 0.2922186\n",
      "Epoch: 87/100: Accuracies for test set  = 92.1100%\n",
      "\n",
      "Epoch: 88/100: loss = 0.2919741\n",
      "Epoch: 88/100: Accuracies for test set  = 92.0400%\n",
      "\n",
      "Epoch: 89/100: loss = 0.2919554\n",
      "Epoch: 89/100: Accuracies for test set  = 92.1300%\n",
      "\n",
      "Epoch: 90/100: loss = 0.2917728\n",
      "Epoch: 90/100: Accuracies for test set  = 92.1100%\n",
      "\n",
      "Epoch: 91/100: loss = 0.2916376\n",
      "Epoch: 91/100: Accuracies for test set  = 92.0700%\n",
      "\n",
      "Epoch: 92/100: loss = 0.2915317\n",
      "Epoch: 92/100: Accuracies for test set  = 92.0700%\n",
      "\n",
      "Epoch: 93/100: loss = 0.2914469\n",
      "Epoch: 93/100: Accuracies for test set  = 92.0600%\n",
      "\n",
      "Epoch: 94/100: loss = 0.2912484\n",
      "Epoch: 94/100: Accuracies for test set  = 92.0800%\n",
      "\n",
      "Epoch: 95/100: loss = 0.2911794\n",
      "Epoch: 95/100: Accuracies for test set  = 92.0900%\n",
      "\n",
      "Epoch: 96/100: loss = 0.2910860\n",
      "Epoch: 96/100: Accuracies for test set  = 92.0900%\n",
      "\n",
      "Epoch: 97/100: loss = 0.2909323\n",
      "Epoch: 97/100: Accuracies for test set  = 92.1100%\n",
      "\n",
      "Epoch: 98/100: loss = 0.2908298\n",
      "Epoch: 98/100: Accuracies for test set  = 92.1900%\n",
      "\n",
      "Epoch: 99/100: loss = 0.2908064\n",
      "Epoch: 99/100: Accuracies for test set  = 92.0700%\n",
      "\n",
      "Epoch: 100/100: loss = 0.2906693\n",
      "Epoch: 100/100: Accuracies for test set  = 92.1600%\n",
      "\n"
     ]
    }
   ],
   "source": [
    "epochs = 100\n",
    "losses = []\n",
    "accuracies = []\n",
    "\n",
    "for epoch in range(epochs):\n",
    "\n",
    "    model.train()\n",
    "    epoch_loss = 0\n",
    "    total_items = 0\n",
    "\n",
    "    for x, y in train_loader:\n",
    "        x, y = x.to(device), y.to(device)\n",
    "        y_hat = model(x)\n",
    "\n",
    "        loss = loss_func(y_hat, y)\n",
    "        epoch_loss += loss.item() * len(x)\n",
    "        total_items += len(x)\n",
    "\n",
    "        optimizer.zero_grad()\n",
    "        loss.backward()\n",
    "        optimizer.step()\n",
    "\n",
    "\n",
    "    epoch_loss /= total_items\n",
    "    losses.append(epoch_loss)\n",
    "    print(f'Epoch: {epoch+1}/{epochs}: loss = {epoch_loss:.7f}')\n",
    "    acc_test = test(model, test_loader, device)\n",
    "    accuracies.append(acc_test)\n",
    "    print(f'Epoch: {epoch + 1}/{epochs}: Accuracies for test set  = {acc_test * 100:.4f}%\\n')"
   ]
  },
  {
   "cell_type": "code",
   "execution_count": 30,
   "id": "80738838",
   "metadata": {},
   "outputs": [
    {
     "data": {
      "text/plain": "<Figure size 640x480 with 1 Axes>",
      "image/png": "[encoded data removed]"
     },
     "metadata": {},
     "output_type": "display_data"
    }
   ],
   "source": [
    "plt.plot(losses, color=\"red\")\n",
    "plt.xlabel(\"Epochs\")\n",
    "plt.ylabel(\"Cost\")\n",
    "plt.title(\"Cross Entropy loss function values - epochs\")\n",
    "plt.grid()\n",
    "plt.show()"
   ]
  },
  {
   "cell_type": "code",
   "execution_count": 31,
   "id": "e480a102",
   "metadata": {},
   "outputs": [
    {
     "data": {
      "text/plain": "<Figure size 640x480 with 1 Axes>",
      "image/png": "[encoded data removed]"
     },
     "metadata": {},
     "output_type": "display_data"
    }
   ],
   "source": [
    "plt.plot(accuracies, color=\"green\")\n",
    "plt.xlabel(\"Epochs\")\n",
    "plt.ylabel(\"Accuracy %\")\n",
    "plt.title(\"Accuracies for test set - epochs\")\n",
    "plt.grid()\n",
    "plt.show()"
   ]
  },
  {
   "cell_type": "code",
   "execution_count": 32,
   "id": "cc368026",
   "metadata": {},
   "outputs": [
    {
     "name": "stdout",
     "output_type": "stream",
     "text": [
      "╭────────┬────────┬────────┬────────┬────────┬────────┬────────┬────────┬────────┬────────┬────────╮\n",
      "│ CnfMat │  pr: 0 │  pr: 1 │  pr: 2 │  pr: 3 │  pr: 4 │  pr: 5 │  pr: 6 │  pr: 7 │  pr: 8 │  pr: 9 │\n",
      "├────────┼────────┼────────┼────────┼────────┼────────┼────────┼────────┼────────┼────────┼────────┤\n",
      "│ act: 0 │    963 │      0 │      2 │      1 │      0 │      3 │      8 │      1 │      2 │      0 │\n",
      "│ act: 1 │      0 │   1108 │      2 │      2 │      0 │      2 │      4 │      2 │     15 │      0 │\n",
      "│ act: 2 │      7 │      7 │    916 │     16 │     11 │      2 │     14 │     13 │     39 │      7 │\n",
      "│ act: 3 │      3 │      1 │     24 │    918 │      0 │     25 │      2 │     12 │     18 │      7 │\n",
      "│ act: 4 │      1 │      2 │      3 │      1 │    913 │      0 │     13 │      2 │      8 │     39 │\n",
      "│ act: 5 │     10 │      3 │      3 │     34 │      9 │    768 │     18 │      7 │     33 │      7 │\n",
      "│ act: 6 │     12 │      3 │      4 │      1 │      9 │     13 │    913 │      2 │      1 │      0 │\n",
      "│ act: 7 │      2 │     10 │     20 │      8 │      6 │      1 │      0 │    944 │      3 │     34 │\n",
      "│ act: 8 │      6 │      7 │      7 │     19 │      9 │     24 │     11 │     12 │    872 │      7 │\n",
      "│ act: 9 │     10 │      8 │      2 │     11 │     36 │      6 │      0 │     27 │      8 │    901 │\n",
      "╰────────┴────────┴────────┴────────┴────────┴────────┴────────┴────────┴────────┴────────┴────────╯\n",
      "Accuracy for testing:  92.15999841690063\n",
      "Accuracy for training:  92.11999773979187\n"
     ]
    }
   ],
   "source": [
    "confusion_matrix = torch.zeros(10, 10).long()\n",
    "with torch.no_grad():\n",
    "    model.eval()\n",
    "    for x, y in test_loader:\n",
    "        x.to(device), y.to(device)\n",
    "        y_hat = model(x)\n",
    "\n",
    "        actual_class = y\n",
    "        predicted_class = torch.argmax(y_hat, dim=1)\n",
    "\n",
    "        for i in range(len(actual_class)):\n",
    "            confusion_matrix[actual_class[i], predicted_class[i]] += 1\n",
    "\n",
    "import tableprint as tab\n",
    "headers = ['CnfMat'] + [f'pr: {x}' for x in range(10)]\n",
    "table = []\n",
    "for i in range(10):\n",
    "    row = [f'act: {i}'] + confusion_matrix[i, :].tolist()\n",
    "    table.append(row)\n",
    "\n",
    "tab.table(table, headers, width=6)\n",
    "print(\"Accuracy for testing: \", 100 * test(model, test_loader, device))\n",
    "print(\"Accuracy for training: \", 100 * test(model, train_loader, device))"
   ]
  },
  {
   "cell_type": "markdown",
   "id": "bbae5fc1",
   "metadata": {},
   "source": []
  }
 ],
 "metadata": {
  "kernelspec": {
   "display_name": "Python 3 (ipykernel)",
   "language": "python",
   "name": "python3"
  },
  "language_info": {
   "codemirror_mode": {
    "name": "ipython",
    "version": 3
   },
   "file_extension": ".py",
   "mimetype": "text/x-python",
   "name": "python",
   "nbconvert_exporter": "python",
   "pygments_lexer": "ipython3",
   "version": "3.8.10"
  },
  "toc": {
   "base_numbering": 1,
   "nav_menu": {},
   "number_sections": true,
   "sideBar": true,
   "skip_h1_title": false,
   "title_cell": "Table of Contents",
   "title_sidebar": "Contents",
   "toc_cell": false,
   "toc_position": {
    "height": "calc(100% - 180px)",
    "left": "10px",
    "top": "150px",
    "width": "167.7px"
   },
   "toc_section_display": true,
   "toc_window_display": false
  },
  "varInspector": {
   "cols": {
    "lenName": 16,
    "lenType": 16,
    "lenVar": 40
   },
   "kernels_config": {
    "python": {
     "delete_cmd_postfix": "",
     "delete_cmd_prefix": "del ",
     "library": "var_list.py",
     "varRefreshCmd": "print(var_dic_list())"
    },
    "r": {
     "delete_cmd_postfix": ") ",
     "delete_cmd_prefix": "rm(",
     "library": "var_list.r",
     "varRefreshCmd": "cat(var_dic_list()) "
    }
   },
   "types_to_exclude": [
    "module",
    "function",
    "builtin_function_or_method",
    "instance",
    "_Feature"
   ],
   "window_display": false
  }
 },
 "nbformat": 4,
 "nbformat_minor": 5
}
