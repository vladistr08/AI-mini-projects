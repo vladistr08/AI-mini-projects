{
 "cells": [
  {
   "cell_type": "markdown",
   "id": "dfe86302",
   "metadata": {},
   "source": [
    "   # Laborator 8: MLP in Pytorch"
   ]
  },
  {
   "cell_type": "markdown",
   "id": "00740954",
   "metadata": {},
   "source": [
    "**Partea 1** Sa se creeze si antreneze un model de tip MLP, folosind setul de date MNIST. Arhitecura modelului - numarul de neuroni in straturile ascunse - va fi data ca o lista de intregi, de exemplu:\n",
    "`architecture=[100, 40, 20]` reprezinta o retea MLP cu 3 straturi ascunse, cu cate 100, 40, respectiv 20 de neuroni in straturile ascunse. Se va transmite, de asemenea functia de activare folosita pentru straturile ascunse. Se vor tipari (pe masura ce se antreneaza) si reprezenta grafic (la final de instruire): loss pe setul de antrenare, loss si acuratete pe setul de testare pentru fiecare de instruire.\n",
    "\n",
    "**Partea a doua**. Automatizati procesul de cautare pentru arhitectura retelei si learnign rate:\n",
    "1. Definiti o lista de learnign rates candidate, e.g. lrs = [1e-2, 1e-3, 1e-4]\n",
    "1. Definiti o lista de arhitecturi candidate, e.g. architectures=[[100, 40, 20], [200, 40]]\n",
    "1. Iterati peste toate combinatiile de learnign rate si arhitecturi; antrenati cate un model pe fiecare combinatie in parte, testati pe setul de testare. Retineti acea combinatie (lr, architecture) care duce la acuratete maxima pe setul de testare. \n",
    "1. Optional, puteti adauga alti hiperparametri pentru modele: valoarea coeficientului de momentum si weight decay pentru SGD, numarul de epoci.\n",
    "\n",
    "Note: \n",
    "1. Pentru adaugarea de module la structura retelei se poate folosi clasa [torch.nn.Sequential](https://pytorch.org/docs/stable/generated/torch.nn.Sequential.html). \n",
    "1. Functiile de activare se pot alege din cele [definite in Pytorch].(https://pytorch.org/docs/stable/nn.html#non-linear-activations-weighted-sum-nonlinearity)"
   ]
  },
  {
   "cell_type": "markdown",
   "id": "dc2d599c",
   "metadata": {},
   "source": [
    "Termen de predare: 3 mai 2023, ora 23:00\n",
    "\n",
    "Se vor folosi type annotations pentru variabile, parametrii tuturor funcțiilor, tipuri de retur. Tema se noteaza doar in prezenta studentului; rezolvarile sunt individuale.\n",
    "\n",
    "Se acordă doua puncte din oficiu. Fișierul va fi denumit tema5_ia_nume_prenume.ipynb. Verificați înainte de trimitere faptul ca execuția celulelor de sus în jos funcționează corespunzător."
   ]
  },
  {
   "cell_type": "markdown",
   "source": [
    "Setting up the inputs"
   ],
   "metadata": {
    "collapsed": false
   }
  },
  {
   "cell_type": "code",
   "execution_count": 371,
   "outputs": [],
   "source": [
    "import torch\n",
    "from torch import nn\n",
    "import torchvision\n",
    "from torch.utils.data import DataLoader\n",
    "\n",
    "import matplotlib.pyplot as plt\n",
    "\n",
    "from typing import Tuple, List"
   ],
   "metadata": {
    "collapsed": false
   }
  },
  {
   "cell_type": "markdown",
   "source": [
    "Setting up the device"
   ],
   "metadata": {
    "collapsed": false
   }
  },
  {
   "cell_type": "code",
   "execution_count": 372,
   "outputs": [],
   "source": [
    "device: str = 'cuda' if torch.cuda.is_available() else 'cpu'"
   ],
   "metadata": {
    "collapsed": false
   }
  },
  {
   "cell_type": "markdown",
   "source": [
    "Setting up the MNIST dataset"
   ],
   "metadata": {
    "collapsed": false
   }
  },
  {
   "cell_type": "code",
   "execution_count": 373,
   "outputs": [],
   "source": [
    "transform = torchvision.transforms.Compose([torchvision.transforms.ToTensor()])\n",
    "\n",
    "train_dataset = torchvision.datasets.MNIST(\n",
    "    root='./data', train=True, download=True, transform=transform\n",
    ")\n",
    "\n",
    "test_dataset = torchvision.datasets.MNIST(\n",
    "    root='./data', train=False, download=True, transform=transform\n",
    ")"
   ],
   "metadata": {
    "collapsed": false
   }
  },
  {
   "cell_type": "markdown",
   "source": [
    "Define dataloader, grouping in batches"
   ],
   "metadata": {
    "collapsed": false
   }
  },
  {
   "cell_type": "code",
   "execution_count": 374,
   "outputs": [],
   "source": [
    "batch_size = 64\n",
    "\n",
    "train_loader = torch.utils.data.DataLoader(\n",
    "    train_dataset, batch_size=batch_size, shuffle=True, num_workers=0\n",
    ")\n",
    "\n",
    "test_loader = torch.utils.data.DataLoader(\n",
    "    test_dataset, batch_size=batch_size, shuffle=False, num_workers=0\n",
    ")"
   ],
   "metadata": {
    "collapsed": false
   }
  },
  {
   "cell_type": "code",
   "execution_count": 375,
   "outputs": [
    {
     "name": "stdout",
     "output_type": "stream",
     "text": [
      "Primul batch:  torch.Size([64, 1, 28, 28]) torch.Size([64])\n"
     ]
    }
   ],
   "source": [
    "assert len(train_loader) == (len(train_dataset) + batch_size - 1) // batch_size\n",
    "assert len(test_loader) == (len(test_dataset) + batch_size - 1) // batch_size\n",
    "\n",
    "for x, y in train_loader:\n",
    "    assert abs(x.min()) < 1e-5 and abs(1-x.max()) <= 1e-5\n",
    "    print('Primul batch: ', x.shape, y.shape)\n",
    "    assert x.shape[0] == y.shape[0]\n",
    "    break"
   ],
   "metadata": {
    "collapsed": false
   }
  },
  {
   "cell_type": "markdown",
   "source": [
    "Define ActivationModule class for nn.Sequential"
   ],
   "metadata": {
    "collapsed": false
   }
  },
  {
   "cell_type": "code",
   "execution_count": 376,
   "outputs": [],
   "source": [
    "class ActivationModule(nn.Module):\n",
    "    def __init__(self, activation):\n",
    "        super(ActivationModule, self).__init__()\n",
    "        self.activation = activation\n",
    "    def forward(self, x):\n",
    "        return self.activation(x)"
   ],
   "metadata": {
    "collapsed": false
   }
  },
  {
   "cell_type": "markdown",
   "source": [
    "Neural Network class"
   ],
   "metadata": {
    "collapsed": false
   }
  },
  {
   "cell_type": "code",
   "execution_count": 377,
   "outputs": [],
   "source": [
    "class MLP(nn.Module):\n",
    "    def __init__(self, input_size: int = 784, hidden_size: List[int] = None, classes: int = 10, activations = None):\n",
    "        super(MLP, self).__init__()\n",
    "        if hidden_size is None:\n",
    "            hidden_size = [100, 40, 20]\n",
    "        if activations is None:\n",
    "            activations = [nn.functional.relu, nn.functional.sigmoid, nn.functional.tanh]\n",
    "        assert len(hidden_size) == len(activations)\n",
    "\n",
    "        #add first layer\n",
    "        layers = [nn.Linear(input_size, hidden_size[0])]\n",
    "\n",
    "        #add hidden layers\n",
    "        for index in range(len(hidden_size) - 1):\n",
    "            layers.append(ActivationModule(activations[index]))\n",
    "            layers.append(nn.Linear(hidden_size[index], hidden_size[index + 1]))\n",
    "\n",
    "        #add output layer\n",
    "        layers.append(ActivationModule(activations[-1]))\n",
    "        layers.append(nn.Linear(hidden_size[-1], classes))\n",
    "\n",
    "        self.model = nn.Sequential(*layers)\n",
    "\n",
    "    def forward(self, x):\n",
    "        x = x.reshape(x.size(0), -1)\n",
    "        x = self.model(x)\n",
    "        return x"
   ],
   "metadata": {
    "collapsed": false
   }
  },
  {
   "cell_type": "markdown",
   "source": [
    "Define test function for nn"
   ],
   "metadata": {
    "collapsed": false
   }
  },
  {
   "cell_type": "code",
   "execution_count": 378,
   "outputs": [],
   "source": [
    "@torch.no_grad()\n",
    "def test(\n",
    "        model: nn.Module,\n",
    "        criterion: nn.CrossEntropyLoss,\n",
    "        loader: torch.utils.data.DataLoader,\n",
    "        device: torch.device\n",
    ") -> Tuple[float, float]:\n",
    "    model.eval()\n",
    "    accuracy, test_loss = 0, 0\n",
    "    for x, y in loader:\n",
    "        x, y = x.to(device), y.to(device)\n",
    "        y_hat = model(x)\n",
    "        test_loss += criterion(y_hat, y).item() * x.shape[0]\n",
    "        _, predicted = torch.max(y_hat, axis=1)\n",
    "        accuracy += (predicted == y).sum().item()\n",
    "    accuracy /= len(loader.dataset)\n",
    "    test_loss /= len(loader.dataset)\n",
    "    return accuracy, test_loss"
   ],
   "metadata": {
    "collapsed": false
   }
  },
  {
   "cell_type": "markdown",
   "source": [
    "Define training loop"
   ],
   "metadata": {
    "collapsed": false
   }
  },
  {
   "cell_type": "code",
   "execution_count": 379,
   "outputs": [],
   "source": [
    "def train(model: nn.Module,\n",
    "          epochs: int,\n",
    "          criterion: nn.CrossEntropyLoss,\n",
    "          train_loader: torch.utils.data.DataLoader,\n",
    "          test_loader: torch.utils.data.DataLoader,\n",
    "          device: torch.device) -> None:\n",
    "    train_losses = []\n",
    "    test_accuracies = []\n",
    "    test_losses = []\n",
    "    test_accuracy_untrained, test_loss_untrained = test(model, criterion, test_loader, device)\n",
    "    print(f'On untrained model, test set: acc={test_accuracy_untrained*100:.2f}, loss={test_loss_untrained:.4f}')\n",
    "\n",
    "    for epoch in range(1, epochs + 1):\n",
    "        model.train()\n",
    "        running_train_loss = 0\n",
    "        for x, y in train_loader:\n",
    "            x, y = x.to(device), y.to(device)\n",
    "            y_hat = model(x)\n",
    "            loss = criterion(y_hat, y)\n",
    "            running_train_loss += loss.item() * x.shape[0]\n",
    "\n",
    "            model.zero_grad()\n",
    "            loss.backward()\n",
    "            optimizer.step()\n",
    "        train_losses.append(running_train_loss / len(train_loader.dataset))\n",
    "        test_accuracy, test_loss = test(model, criterion, test_loader, device)\n",
    "        print(f'Epoch {epoch}/{epochs}, train set: loss={train_losses[-1]:.4f}')\n",
    "        print(f'Epoch {epoch}/{epochs}, test set: acc={test_accuracy*100:.2f}%, loss={test_loss:.4f}')\n",
    "        test_losses.append(test_loss)\n",
    "        test_accuracies.append(test_accuracy)\n",
    "    x_epochs = list(range(1, epochs+1))\n",
    "    plt.title('Loss curves')\n",
    "    plt.plot(x_epochs, train_losses, 'red', label='Train loss')\n",
    "    plt.plot(x_epochs, test_losses, 'green', label='Test loss')\n",
    "    plt.legend(loc='best')\n",
    "    plt.show()\n",
    "\n",
    "    plt.title('Test accuracy')\n",
    "    plt.plot(x_epochs, test_accuracies)\n",
    "    plt.show()"
   ],
   "metadata": {
    "collapsed": false
   }
  },
  {
   "cell_type": "markdown",
   "source": [
    "Define the model"
   ],
   "metadata": {
    "collapsed": false
   }
  },
  {
   "cell_type": "code",
   "execution_count": 380,
   "outputs": [
    {
     "data": {
      "text/plain": "MLP(\n  (model): Sequential(\n    (0): Linear(in_features=784, out_features=100, bias=True)\n    (1): ActivationModule()\n    (2): Linear(in_features=100, out_features=40, bias=True)\n    (3): ActivationModule()\n    (4): Linear(in_features=40, out_features=30, bias=True)\n    (5): ActivationModule()\n    (6): Linear(in_features=30, out_features=20, bias=True)\n    (7): ActivationModule()\n    (8): Linear(in_features=20, out_features=10, bias=True)\n  )\n)"
     },
     "execution_count": 380,
     "metadata": {},
     "output_type": "execute_result"
    }
   ],
   "source": [
    "model = MLP(hidden_size=[100, 40, 30, 20], activations=[nn.functional.relu, nn.functional.tanh, nn.functional.relu, nn.functional.sigmoid])\n",
    "\n",
    "model.to(device)"
   ],
   "metadata": {
    "collapsed": false
   }
  },
  {
   "cell_type": "code",
   "execution_count": 381,
   "outputs": [
    {
     "name": "stdout",
     "output_type": "stream",
     "text": [
      "=================================================================\n",
      "Layer (type:depth-idx)                   Param #\n",
      "=================================================================\n",
      "├─Sequential: 1-1                        --\n",
      "|    └─Linear: 2-1                       78,500\n",
      "|    └─ActivationModule: 2-2             --\n",
      "|    └─Linear: 2-3                       4,040\n",
      "|    └─ActivationModule: 2-4             --\n",
      "|    └─Linear: 2-5                       1,230\n",
      "|    └─ActivationModule: 2-6             --\n",
      "|    └─Linear: 2-7                       620\n",
      "|    └─ActivationModule: 2-8             --\n",
      "|    └─Linear: 2-9                       210\n",
      "=================================================================\n",
      "Total params: 84,600\n",
      "Trainable params: 84,600\n",
      "Non-trainable params: 0\n",
      "=================================================================\n"
     ]
    },
    {
     "data": {
      "text/plain": "=================================================================\nLayer (type:depth-idx)                   Param #\n=================================================================\n├─Sequential: 1-1                        --\n|    └─Linear: 2-1                       78,500\n|    └─ActivationModule: 2-2             --\n|    └─Linear: 2-3                       4,040\n|    └─ActivationModule: 2-4             --\n|    └─Linear: 2-5                       1,230\n|    └─ActivationModule: 2-6             --\n|    └─Linear: 2-7                       620\n|    └─ActivationModule: 2-8             --\n|    └─Linear: 2-9                       210\n=================================================================\nTotal params: 84,600\nTrainable params: 84,600\nNon-trainable params: 0\n================================================================="
     },
     "execution_count": 381,
     "metadata": {},
     "output_type": "execute_result"
    }
   ],
   "source": [
    "from torchsummary import summary\n",
    "summary(model)"
   ],
   "metadata": {
    "collapsed": false
   }
  },
  {
   "cell_type": "markdown",
   "source": [
    "Define hyper parameters and optimizer"
   ],
   "metadata": {
    "collapsed": false
   }
  },
  {
   "cell_type": "code",
   "execution_count": 382,
   "outputs": [],
   "source": [
    "epochs = 30\n",
    "lr = 1e-2\n",
    "momentum = 0.85\n",
    "weight_decay = 1e-3\n",
    "\n",
    "criterion = nn.CrossEntropyLoss()\n",
    "optimizer = torch.optim.SGD(model.parameters(), lr=lr, momentum=momentum, weight_decay=weight_decay)"
   ],
   "metadata": {
    "collapsed": false
   }
  },
  {
   "cell_type": "code",
   "execution_count": 383,
   "outputs": [
    {
     "name": "stdout",
     "output_type": "stream",
     "text": [
      "On untrained model, test set: acc=9.80, loss=2.3335\n",
      "Epoch 1/30, train set: loss=2.2322\n",
      "Epoch 1/30, test set: acc=28.37%, loss=1.8644\n",
      "Epoch 2/30, train set: loss=1.2523\n",
      "Epoch 2/30, test set: acc=84.16%, loss=0.6829\n",
      "Epoch 3/30, train set: loss=0.4917\n",
      "Epoch 3/30, test set: acc=91.03%, loss=0.3676\n",
      "Epoch 4/30, train set: loss=0.2890\n",
      "Epoch 4/30, test set: acc=93.92%, loss=0.2456\n",
      "Epoch 5/30, train set: loss=0.2232\n",
      "Epoch 5/30, test set: acc=94.65%, loss=0.2104\n",
      "Epoch 6/30, train set: loss=0.1862\n",
      "Epoch 6/30, test set: acc=95.13%, loss=0.1883\n",
      "Epoch 7/30, train set: loss=0.1613\n",
      "Epoch 7/30, test set: acc=95.87%, loss=0.1641\n",
      "Epoch 8/30, train set: loss=0.1467\n",
      "Epoch 8/30, test set: acc=95.64%, loss=0.1638\n",
      "Epoch 9/30, train set: loss=0.1340\n",
      "Epoch 9/30, test set: acc=95.99%, loss=0.1526\n",
      "Epoch 10/30, train set: loss=0.1229\n",
      "Epoch 10/30, test set: acc=96.20%, loss=0.1507\n",
      "Epoch 11/30, train set: loss=0.1158\n",
      "Epoch 11/30, test set: acc=96.26%, loss=0.1472\n",
      "Epoch 12/30, train set: loss=0.1076\n",
      "Epoch 12/30, test set: acc=96.50%, loss=0.1373\n",
      "Epoch 13/30, train set: loss=0.1016\n",
      "Epoch 13/30, test set: acc=96.51%, loss=0.1328\n",
      "Epoch 14/30, train set: loss=0.0974\n",
      "Epoch 14/30, test set: acc=96.52%, loss=0.1348\n",
      "Epoch 15/30, train set: loss=0.0906\n",
      "Epoch 15/30, test set: acc=96.39%, loss=0.1348\n",
      "Epoch 16/30, train set: loss=0.0881\n",
      "Epoch 16/30, test set: acc=96.72%, loss=0.1267\n",
      "Epoch 17/30, train set: loss=0.0838\n",
      "Epoch 17/30, test set: acc=96.91%, loss=0.1224\n",
      "Epoch 18/30, train set: loss=0.0799\n",
      "Epoch 18/30, test set: acc=96.66%, loss=0.1266\n",
      "Epoch 19/30, train set: loss=0.0774\n",
      "Epoch 19/30, test set: acc=96.33%, loss=0.1364\n",
      "Epoch 20/30, train set: loss=0.0752\n",
      "Epoch 20/30, test set: acc=96.98%, loss=0.1157\n",
      "Epoch 21/30, train set: loss=0.0735\n",
      "Epoch 21/30, test set: acc=96.86%, loss=0.1161\n",
      "Epoch 22/30, train set: loss=0.0713\n",
      "Epoch 22/30, test set: acc=97.08%, loss=0.1135\n",
      "Epoch 23/30, train set: loss=0.0675\n",
      "Epoch 23/30, test set: acc=96.68%, loss=0.1251\n",
      "Epoch 24/30, train set: loss=0.0683\n",
      "Epoch 24/30, test set: acc=97.10%, loss=0.1098\n",
      "Epoch 25/30, train set: loss=0.0662\n",
      "Epoch 25/30, test set: acc=97.02%, loss=0.1125\n",
      "Epoch 26/30, train set: loss=0.0642\n",
      "Epoch 26/30, test set: acc=97.04%, loss=0.1146\n",
      "Epoch 27/30, train set: loss=0.0645\n",
      "Epoch 27/30, test set: acc=97.05%, loss=0.1120\n",
      "Epoch 28/30, train set: loss=0.0612\n",
      "Epoch 28/30, test set: acc=97.11%, loss=0.1092\n",
      "Epoch 29/30, train set: loss=0.0600\n",
      "Epoch 29/30, test set: acc=97.37%, loss=0.1057\n",
      "Epoch 30/30, train set: loss=0.0603\n",
      "Epoch 30/30, test set: acc=97.13%, loss=0.1110\n"
     ]
    },
    {
     "data": {
      "text/plain": "<Figure size 640x480 with 1 Axes>",
      "image/png": "[encoded data removed]"
     },
     "metadata": {},
     "output_type": "display_data"
    },
    {
     "data": {
      "text/plain": "<Figure size 640x480 with 1 Axes>",
      "image/png": "[encoded data removed]"
     },
     "metadata": {},
     "output_type": "display_data"
    }
   ],
   "source": [
    "train(model, epochs, criterion, train_loader, test_loader, device)"
   ],
   "metadata": {
    "collapsed": false
   }
  }
 ],
 "metadata": {
  "kernelspec": {
   "display_name": "Python 3 (ipykernel)",
   "language": "python",
   "name": "python3"
  },
  "language_info": {
   "codemirror_mode": {
    "name": "ipython",
    "version": 3
   },
   "file_extension": ".py",
   "mimetype": "text/x-python",
   "name": "python",
   "nbconvert_exporter": "python",
   "pygments_lexer": "ipython3",
   "version": "3.10.9"
  },
  "toc": {
   "base_numbering": 1,
   "nav_menu": {},
   "number_sections": true,
   "sideBar": true,
   "skip_h1_title": false,
   "title_cell": "Table of Contents",
   "title_sidebar": "Contents",
   "toc_cell": false,
   "toc_position": {},
   "toc_section_display": true,
   "toc_window_display": false
  },
  "varInspector": {
   "cols": {
    "lenName": 16,
    "lenType": 16,
    "lenVar": 40
   },
   "kernels_config": {
    "python": {
     "delete_cmd_postfix": "",
     "delete_cmd_prefix": "del ",
     "library": "var_list.py",
     "varRefreshCmd": "print(var_dic_list())"
    },
    "r": {
     "delete_cmd_postfix": ") ",
     "delete_cmd_prefix": "rm(",
     "library": "var_list.r",
     "varRefreshCmd": "cat(var_dic_list()) "
    }
   },
   "types_to_exclude": [
    "module",
    "function",
    "builtin_function_or_method",
    "instance",
    "_Feature"
   ],
   "window_display": false
  }
 },
 "nbformat": 4,
 "nbformat_minor": 5
}
